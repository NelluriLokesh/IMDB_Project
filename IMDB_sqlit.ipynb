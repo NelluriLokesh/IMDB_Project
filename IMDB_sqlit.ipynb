{
  "cells": [
    {
      "cell_type": "markdown",
      "metadata": {
        "id": "view-in-github",
        "colab_type": "text"
      },
      "source": [
        "<a href=\"https://colab.research.google.com/github/NelluriLokesh/IMDB_Project/blob/main/IMDB_sqlit.ipynb\" target=\"_parent\"><img src=\"https://colab.research.google.com/assets/colab-badge.svg\" alt=\"Open In Colab\"/></a>"
      ]
    },
    {
      "cell_type": "markdown",
      "metadata": {
        "id": "n7F9_UlRcffv"
      },
      "source": [
        "\n",
        "\n",
        "\n",
        "> ## Explanation :\n",
        "\n",
        "This Database Contains Movies Created By Several Directors In The World.\n",
        "\n",
        "This Database Can Be Seen At: https://www.kaggle.com/luizpaulodeoliveira/imdb-project-sql\n",
        "\n",
        "This Database Contains Two Tables. The First Table Is Called 'directors', Contains The Name Of The Director And His Gender. The Second Table Is Called 'movies', Contains The Title Of The Movies, budget, revenue, popularity, etc.\n",
        "\n",
        "From This database, You Can Find Out The Best Movies Based On Income, Popularity And Votes. In Addition, You Can Also Find Out The Best Director Based On The Amount Of Revenue From All His Movies.\n",
        "\n",
        "The Correlation Coefficient Of These Two Tables Can Show The Effect Of Each Column To The Other Column."
      ]
    },
    {
      "cell_type": "markdown",
      "metadata": {
        "id": "7aAPKYQWcff0"
      },
      "source": [
        "###  Analysis on IMDB useful libraries with sql\n",
        "\n",
        "> ### Explanation\n",
        "\n",
        "**SQLite :** - SQLite database is integrated with the application that accesses the database. The applications interact with the SQLite database read and write directly from the database files stored on disk.\n",
        "         \n",
        "- SQLite does NOT require a server to run.\n",
        "\n",
        "\n",
        "- Refer at https://www.sqlite.org/index.html\n",
        "\n",
        "\n",
        "**PANDAS :**\n",
        "    - Pandas provide high performance, fast, easy to use data structures and data analysis tools for manipulating numeric data and time series. Pandas is built on the numpy library and written in languages like Python, Cython, and C. In pandas, we can import data from various file formats like JSON, SQL, Microsoft Excel, etc.\n",
        "    \n",
        "**NUMPY:**\n",
        "       - Numpy is an Python library,It is used for scientific computing in python.It contains a collection of tools and techniques that can be used to solve on computers with mathematical model of problems.\n",
        "       - High performance and multi-dimensional areay objects.\n",
        "       - High level mathematical functions.\n",
        "       - matrices\n",
        "       \n",
        "       \n",
        " ### Data Visualizations\n",
        " - Data Visualization is the graphic representation of data. It converts a huge dataset into small graphs, thus aids in data analysis and predictions\n",
        "       \n",
        "**MATPLOTLIB**\n",
        "- It is a Python library used for plotting graphs with the help of other libraries like Numpy and Pandas. It is a powerful tool for visualizing data in Python. It is used for creating statical interferences and plotting 2D graphs of arrays\n",
        "\n",
        "**SEABORN:**\n",
        "- It is also a Python library used for plotting graphs with the help of Matplotlib, Pandas, and Numpy. It is built on the roof of Matplotlib and is considered as a superset of the Matplotlib library. It helps in visualizing univariate and bivariate data"
      ]
    },
    {
      "cell_type": "code",
      "execution_count": null,
      "metadata": {
        "execution": {
          "iopub.execute_input": "2021-05-20T05:49:45.481827Z",
          "iopub.status.busy": "2021-05-20T05:49:45.481299Z",
          "iopub.status.idle": "2021-05-20T05:49:45.487748Z",
          "shell.execute_reply": "2021-05-20T05:49:45.486277Z",
          "shell.execute_reply.started": "2021-05-20T05:49:45.481784Z"
        },
        "id": "sLCo9_YIcff1"
      },
      "outputs": [],
      "source": [
        "# Import Pandas and NumPy\n",
        "\n",
        "import numpy as np\n",
        "import pandas as pd\n",
        "\n",
        "# Import Libraries for plotting    # Visualizations\n",
        "import matplotlib.pyplot as plt\n",
        "import seaborn as sns\n",
        "\n",
        "\n",
        "\n",
        "#pip install db-sqlite3\n",
        "#SQLite in general is a server-less database that you can use within almost all programming languages including Python.\n",
        "import sqlite3\n",
        "\n",
        "\n",
        "# Supress Warnings\n",
        "import warnings\n",
        "warnings.filterwarnings('ignore')\n"
      ]
    },
    {
      "cell_type": "markdown",
      "metadata": {
        "id": "DenPGqSdcff2"
      },
      "source": []
    },
    {
      "cell_type": "markdown",
      "metadata": {
        "id": "d6P-IwXbcff3"
      },
      "source": [
        "####   We import the sqlite3 module and then create a connection object which will connect us to the database and will let us execute the SQL statements.\n",
        "> - sqlite3.connect(Database)\n",
        "> - **cursor()** - we can use the cursor object to call the execute() method to execute any SQL queries.\n",
        "\n",
        "\n",
        "#### STEPS\n",
        "> To query data in an SQLite database from Python, you use these steps:\n",
        "\n",
        "- First, establish a connection to the SQLite database by creating a Connection object.\n",
        "- Next, create a Cursor object using the cursor method of the Connection object.\n",
        "- Then, execute a  SELECT statement.\n",
        "- After that, call the fetchall() method of the cursor object to fetch the data.\n",
        "- Finally, loop the cursor and process each row individually.\n"
      ]
    },
    {
      "cell_type": "code",
      "execution_count": null,
      "metadata": {
        "execution": {
          "iopub.execute_input": "2021-05-20T05:50:27.108304Z",
          "iopub.status.busy": "2021-05-20T05:50:27.107614Z",
          "iopub.status.idle": "2021-05-20T05:50:27.125870Z",
          "shell.execute_reply": "2021-05-20T05:50:27.124859Z",
          "shell.execute_reply.started": "2021-05-20T05:50:27.108247Z"
        },
        "id": "qQOS7NAFcff3"
      },
      "outputs": [],
      "source": [
        "db = r\"C:\\Users\\ABC\\Desktop\\data scientist\\Data Analysis PROJECTS\\PROJECTS\\IMDB project\\project file\\movies.sqlite\"\n",
        "\n",
        "\n",
        "con = sqlite3.connect(db)\n",
        "cur = con.cursor()"
      ]
    },
    {
      "cell_type": "markdown",
      "metadata": {
        "id": "IuYFRiEMcff3"
      },
      "source": [
        "## QUESTIONS"
      ]
    },
    {
      "cell_type": "markdown",
      "metadata": {
        "id": "FW9uDg_xcff4"
      },
      "source": [
        "#### **Question 1:** Can you get all data about movies?"
      ]
    },
    {
      "cell_type": "code",
      "execution_count": null,
      "metadata": {
        "execution": {
          "iopub.execute_input": "2021-05-20T06:12:49.096048Z",
          "iopub.status.busy": "2021-05-20T06:12:49.095688Z",
          "iopub.status.idle": "2021-05-20T06:12:49.797709Z",
          "shell.execute_reply": "2021-05-20T06:12:49.796360Z",
          "shell.execute_reply.started": "2021-05-20T06:12:49.096016Z"
        },
        "jupyter": {
          "outputs_hidden": true
        },
        "id": "43LzorKdcff4",
        "outputId": "0da9ac21-8fef-4c2d-c8ac-5f4b07de8cfb"
      },
      "outputs": [
        {
          "name": "stdout",
          "output_type": "stream",
          "text": [
            "Shape of Movies data : (4773, 13)\n",
            "\n",
            "\n",
            "\n",
            "\n"
          ]
        },
        {
          "data": {
            "text/html": [
              "<div>\n",
              "<style scoped>\n",
              "    .dataframe tbody tr th:only-of-type {\n",
              "        vertical-align: middle;\n",
              "    }\n",
              "\n",
              "    .dataframe tbody tr th {\n",
              "        vertical-align: top;\n",
              "    }\n",
              "\n",
              "    .dataframe thead th {\n",
              "        text-align: right;\n",
              "    }\n",
              "</style>\n",
              "<table border=\"1\" class=\"dataframe\">\n",
              "  <thead>\n",
              "    <tr style=\"text-align: right;\">\n",
              "      <th></th>\n",
              "      <th>id</th>\n",
              "      <th>original_title</th>\n",
              "      <th>budget</th>\n",
              "      <th>popularity</th>\n",
              "      <th>release_date</th>\n",
              "      <th>revenue</th>\n",
              "      <th>title</th>\n",
              "      <th>vote_average</th>\n",
              "      <th>vote_count</th>\n",
              "      <th>overview</th>\n",
              "      <th>tagline</th>\n",
              "      <th>uid</th>\n",
              "      <th>director_id</th>\n",
              "    </tr>\n",
              "  </thead>\n",
              "  <tbody>\n",
              "    <tr>\n",
              "      <th>0</th>\n",
              "      <td>43597</td>\n",
              "      <td>Avatar</td>\n",
              "      <td>237000000</td>\n",
              "      <td>150</td>\n",
              "      <td>2009-12-10</td>\n",
              "      <td>2787965087</td>\n",
              "      <td>Avatar</td>\n",
              "      <td>7.2</td>\n",
              "      <td>11800</td>\n",
              "      <td>In the 22nd century, a paraplegic Marine is di...</td>\n",
              "      <td>Enter the World of Pandora.</td>\n",
              "      <td>19995</td>\n",
              "      <td>4762</td>\n",
              "    </tr>\n",
              "    <tr>\n",
              "      <th>1</th>\n",
              "      <td>43598</td>\n",
              "      <td>Pirates of the Caribbean: At World's End</td>\n",
              "      <td>300000000</td>\n",
              "      <td>139</td>\n",
              "      <td>2007-05-19</td>\n",
              "      <td>961000000</td>\n",
              "      <td>Pirates of the Caribbean: At World's End</td>\n",
              "      <td>6.9</td>\n",
              "      <td>4500</td>\n",
              "      <td>Captain Barbossa, long believed to be dead, ha...</td>\n",
              "      <td>At the end of the world, the adventure begins.</td>\n",
              "      <td>285</td>\n",
              "      <td>4763</td>\n",
              "    </tr>\n",
              "    <tr>\n",
              "      <th>2</th>\n",
              "      <td>43599</td>\n",
              "      <td>Spectre</td>\n",
              "      <td>245000000</td>\n",
              "      <td>107</td>\n",
              "      <td>2015-10-26</td>\n",
              "      <td>880674609</td>\n",
              "      <td>Spectre</td>\n",
              "      <td>6.3</td>\n",
              "      <td>4466</td>\n",
              "      <td>A cryptic message from Bond’s past sends him o...</td>\n",
              "      <td>A Plan No One Escapes</td>\n",
              "      <td>206647</td>\n",
              "      <td>4764</td>\n",
              "    </tr>\n",
              "  </tbody>\n",
              "</table>\n",
              "</div>"
            ],
            "text/plain": [
              "      id                            original_title     budget  popularity  \\\n",
              "0  43597                                    Avatar  237000000         150   \n",
              "1  43598  Pirates of the Caribbean: At World's End  300000000         139   \n",
              "2  43599                                   Spectre  245000000         107   \n",
              "\n",
              "  release_date     revenue                                     title  \\\n",
              "0   2009-12-10  2787965087                                    Avatar   \n",
              "1   2007-05-19   961000000  Pirates of the Caribbean: At World's End   \n",
              "2   2015-10-26   880674609                                   Spectre   \n",
              "\n",
              "   vote_average  vote_count  \\\n",
              "0           7.2       11800   \n",
              "1           6.9        4500   \n",
              "2           6.3        4466   \n",
              "\n",
              "                                            overview  \\\n",
              "0  In the 22nd century, a paraplegic Marine is di...   \n",
              "1  Captain Barbossa, long believed to be dead, ha...   \n",
              "2  A cryptic message from Bond’s past sends him o...   \n",
              "\n",
              "                                          tagline     uid  director_id  \n",
              "0                     Enter the World of Pandora.   19995         4762  \n",
              "1  At the end of the world, the adventure begins.     285         4763  \n",
              "2                           A Plan No One Escapes  206647         4764  "
            ]
          },
          "execution_count": 3,
          "metadata": {},
          "output_type": "execute_result"
        }
      ],
      "source": [
        "cur.execute('SELECT * FROM movies')\n",
        "#use the cursor object to call the execute() method to execute any SQL queries.\n",
        "movies = cur.fetchall()\n",
        "\n",
        "#movies -> if u print movies , all the data shown in list manner, can't understanadble\n",
        "\n",
        "#Note - fetchall() --> fetch all rows for the current query, if no rows avaliable then,it returns an empty list.\n",
        "\n",
        "movies = pd.DataFrame(movies, columns = ['id', 'original_title', 'budget', 'popularity', 'release_date', 'revenue', 'title', 'vote_average', 'vote_count', 'overview', 'tagline', 'uid', 'director_id'])\n",
        "#Creating a dataframe, A dataframe contains rows and columns , It is a Two-dimensional, size-mutable, potentially heterogeneous tabular data.\n",
        "\n",
        "\n",
        "\n",
        "print('Shape of Movies data :',movies.shape)\n",
        "print('\\n\\n\\n')\n",
        "movies.head(3)\n",
        "#Displays first 3 rows in the table\n"
      ]
    },
    {
      "cell_type": "code",
      "execution_count": null,
      "metadata": {
        "execution": {
          "iopub.execute_input": "2021-05-20T06:10:50.650714Z",
          "iopub.status.busy": "2021-05-20T06:10:50.650236Z",
          "iopub.status.idle": "2021-05-20T06:10:50.690734Z",
          "shell.execute_reply": "2021-05-20T06:10:50.689727Z",
          "shell.execute_reply.started": "2021-05-20T06:10:50.650673Z"
        },
        "jupyter": {
          "outputs_hidden": true
        },
        "id": "o_Ky2fZycff5",
        "outputId": "47f25d81-a1e6-4fc8-e6fb-c5367b6f78f6"
      },
      "outputs": [
        {
          "name": "stdout",
          "output_type": "stream",
          "text": [
            "<class 'pandas.core.frame.DataFrame'>\n",
            "RangeIndex: 4773 entries, 0 to 4772\n",
            "Data columns (total 13 columns):\n",
            " #   Column          Non-Null Count  Dtype  \n",
            "---  ------          --------------  -----  \n",
            " 0   id              4773 non-null   int64  \n",
            " 1   original_title  4773 non-null   object \n",
            " 2   budget          4773 non-null   int64  \n",
            " 3   popularity      4773 non-null   int64  \n",
            " 4   release_date    4773 non-null   object \n",
            " 5   revenue         4773 non-null   int64  \n",
            " 6   title           4773 non-null   object \n",
            " 7   vote_average    4773 non-null   float64\n",
            " 8   vote_count      4773 non-null   int64  \n",
            " 9   overview        4770 non-null   object \n",
            " 10  tagline         3951 non-null   object \n",
            " 11  uid             4773 non-null   int64  \n",
            " 12  director_id     4773 non-null   int64  \n",
            "dtypes: float64(1), int64(7), object(5)\n",
            "memory usage: 484.9+ KB\n"
          ]
        }
      ],
      "source": [
        "movies.info()"
      ]
    },
    {
      "cell_type": "markdown",
      "metadata": {
        "id": "zPCBIsf-cff5"
      },
      "source": [
        "\n",
        "#### **Question 2:** How do you get all data about directors?"
      ]
    },
    {
      "cell_type": "code",
      "execution_count": null,
      "metadata": {
        "id": "xoffRw1Vcff6",
        "outputId": "334618cd-9693-46f3-d5d2-eb942f6d5c0e"
      },
      "outputs": [
        {
          "name": "stdout",
          "output_type": "stream",
          "text": [
            "Shape of Directors data : (2349, 5)\n",
            "\n",
            "\n",
            "\n",
            "\n"
          ]
        },
        {
          "data": {
            "text/html": [
              "<div>\n",
              "<style scoped>\n",
              "    .dataframe tbody tr th:only-of-type {\n",
              "        vertical-align: middle;\n",
              "    }\n",
              "\n",
              "    .dataframe tbody tr th {\n",
              "        vertical-align: top;\n",
              "    }\n",
              "\n",
              "    .dataframe thead th {\n",
              "        text-align: right;\n",
              "    }\n",
              "</style>\n",
              "<table border=\"1\" class=\"dataframe\">\n",
              "  <thead>\n",
              "    <tr style=\"text-align: right;\">\n",
              "      <th></th>\n",
              "      <th>name</th>\n",
              "      <th>id</th>\n",
              "      <th>gender</th>\n",
              "      <th>uid</th>\n",
              "      <th>department</th>\n",
              "    </tr>\n",
              "  </thead>\n",
              "  <tbody>\n",
              "    <tr>\n",
              "      <th>0</th>\n",
              "      <td>James Cameron</td>\n",
              "      <td>4762</td>\n",
              "      <td>2</td>\n",
              "      <td>2710</td>\n",
              "      <td>Directing</td>\n",
              "    </tr>\n",
              "    <tr>\n",
              "      <th>1</th>\n",
              "      <td>Gore Verbinski</td>\n",
              "      <td>4763</td>\n",
              "      <td>2</td>\n",
              "      <td>1704</td>\n",
              "      <td>Directing</td>\n",
              "    </tr>\n",
              "    <tr>\n",
              "      <th>2</th>\n",
              "      <td>Sam Mendes</td>\n",
              "      <td>4764</td>\n",
              "      <td>2</td>\n",
              "      <td>39</td>\n",
              "      <td>Directing</td>\n",
              "    </tr>\n",
              "  </tbody>\n",
              "</table>\n",
              "</div>"
            ],
            "text/plain": [
              "             name    id  gender   uid department\n",
              "0   James Cameron  4762       2  2710  Directing\n",
              "1  Gore Verbinski  4763       2  1704  Directing\n",
              "2      Sam Mendes  4764       2    39  Directing"
            ]
          },
          "execution_count": 5,
          "metadata": {},
          "output_type": "execute_result"
        }
      ],
      "source": [
        "cur.execute('SELECT * FROM directors')\n",
        "#use the cursor object to call the execute() method to execute any SQL queries.\n",
        "\n",
        "directors = cur.fetchall()\n",
        "#Note - fetchall() --> fetch all rows for the current query, if no rows avaliable then,it returns an empty list.\n",
        "\n",
        "\n",
        "directors = pd.DataFrame(directors, columns = ['name', 'id', 'gender', 'uid', 'department'])\n",
        "#Creating a dataframe, A dataframe contains rows and columns , It is a Two-dimensional, size-mutable, potentially heterogeneous tabular data.\n",
        "\n",
        "print('Shape of Directors data :',directors.shape)\n",
        "print('\\n\\n\\n')\n",
        "\n",
        "\n",
        "directors.head(3)"
      ]
    },
    {
      "cell_type": "code",
      "execution_count": null,
      "metadata": {
        "execution": {
          "iopub.execute_input": "2021-05-20T06:16:52.339605Z",
          "iopub.status.busy": "2021-05-20T06:16:52.339231Z",
          "iopub.status.idle": "2021-05-20T06:16:52.358729Z",
          "shell.execute_reply": "2021-05-20T06:16:52.356942Z",
          "shell.execute_reply.started": "2021-05-20T06:16:52.339574Z"
        },
        "jupyter": {
          "outputs_hidden": true
        },
        "id": "gGqw5vjQcff6",
        "outputId": "1dbd08c2-99ce-4017-ef1e-4c584a5f2ef4"
      },
      "outputs": [
        {
          "name": "stdout",
          "output_type": "stream",
          "text": [
            "<class 'pandas.core.frame.DataFrame'>\n",
            "RangeIndex: 2349 entries, 0 to 2348\n",
            "Data columns (total 5 columns):\n",
            " #   Column      Non-Null Count  Dtype \n",
            "---  ------      --------------  ----- \n",
            " 0   name        2349 non-null   object\n",
            " 1   id          2349 non-null   int64 \n",
            " 2   gender      2349 non-null   int64 \n",
            " 3   uid         2349 non-null   int64 \n",
            " 4   department  2349 non-null   object\n",
            "dtypes: int64(3), object(2)\n",
            "memory usage: 91.9+ KB\n"
          ]
        }
      ],
      "source": [
        "directors.info()"
      ]
    },
    {
      "cell_type": "markdown",
      "metadata": {
        "id": "0bYm1EqIcff7"
      },
      "source": [
        "#### **Question 3:** Check how many movies are present in iMDB."
      ]
    },
    {
      "cell_type": "code",
      "execution_count": null,
      "metadata": {
        "execution": {
          "iopub.execute_input": "2021-05-20T06:43:23.832443Z",
          "iopub.status.busy": "2021-05-20T06:43:23.832035Z",
          "iopub.status.idle": "2021-05-20T06:43:24.387383Z",
          "shell.execute_reply": "2021-05-20T06:43:24.386397Z",
          "shell.execute_reply.started": "2021-05-20T06:43:23.832411Z"
        },
        "id": "-TfPs4BUcff7",
        "outputId": "7ac0b270-edeb-40cc-d2d3-d4cbe10dd6f3"
      },
      "outputs": [
        {
          "name": "stdout",
          "output_type": "stream",
          "text": [
            "the number of movies is present in IMDB is \t\t\t : (4773,)\n"
          ]
        }
      ],
      "source": [
        "cur.execute('SELECT COUNT (*) from movies;')\n",
        "#use the cursor object to call the execute() method to execute any SQL queries.\n",
        "\n",
        "count = cur.fetchall()\n",
        "print(\"the number of movies is present in IMDB is \\t\\t\\t :\",count[0])\n",
        "#Note - fetchall() --> fetch all rows for the current query, if no rows avaliable then,it returns an empty list.\n",
        "\n",
        "\n"
      ]
    },
    {
      "cell_type": "markdown",
      "metadata": {
        "id": "Jyv6GlZccff7"
      },
      "source": [
        "#### **Question 4:** Find these 3 directors: James Cameron ; Luc Besson ; John Woo\n"
      ]
    },
    {
      "cell_type": "code",
      "execution_count": null,
      "metadata": {
        "execution": {
          "iopub.execute_input": "2021-05-20T06:51:31.975137Z",
          "iopub.status.busy": "2021-05-20T06:51:31.974756Z",
          "iopub.status.idle": "2021-05-20T06:51:31.991577Z",
          "shell.execute_reply": "2021-05-20T06:51:31.990015Z",
          "shell.execute_reply.started": "2021-05-20T06:51:31.975104Z"
        },
        "id": "wsIX_mZ5cff7",
        "outputId": "66033975-b8f6-4c1d-fbcb-e0cc955678e2"
      },
      "outputs": [
        {
          "name": "stdout",
          "output_type": "stream",
          "text": [
            "These 3 directors are: \t : [('James Cameron', 4762, 2, 2710, 'Directing'), ('John Woo', 4893, 2, 11401, 'Directing'), ('Luc Besson', 4949, 2, 59, 'Directing')]\n"
          ]
        }
      ],
      "source": [
        "cur.execute(\"SELECT * from directors where name == 'James Cameron' or name =='Luc Besson' or name =='John Woo'\")\n",
        "\n",
        "#use the cursor object to call the execute() method to execute any SQL queries.\n",
        "\n",
        "# where - WHERE clause to get that rows that met these conditions.\n",
        "\n",
        "\n",
        "three_directors = cur.fetchall()\n",
        "\n",
        "print(\"These 3 directors are: \\t :\",three_directors)\n",
        "#Note - fetchall() --> fetch all rows for the current query, if no rows avaliable then,it returns an empty list.\n",
        "\n",
        "\n"
      ]
    },
    {
      "cell_type": "markdown",
      "metadata": {
        "id": "V48Snz2Fcff7"
      },
      "source": [
        "#### **Question 5:** Find all directors with name starting with Steven.\n"
      ]
    },
    {
      "cell_type": "code",
      "execution_count": null,
      "metadata": {
        "execution": {
          "iopub.execute_input": "2021-05-20T06:54:34.350129Z",
          "iopub.status.busy": "2021-05-20T06:54:34.349699Z",
          "iopub.status.idle": "2021-05-20T06:54:34.363444Z",
          "shell.execute_reply": "2021-05-20T06:54:34.361927Z",
          "shell.execute_reply.started": "2021-05-20T06:54:34.350095Z"
        },
        "id": "Pc8jjBcicff8",
        "outputId": "a55f61d2-0328-4691-d141-fca897a6c463"
      },
      "outputs": [
        {
          "name": "stdout",
          "output_type": "stream",
          "text": [
            "The name like stevens are: \n",
            " \t [('Steven Spielberg', 4799, 2, 488, 'Directing'), ('Steven Soderbergh', 4909, 2, 1884, 'Directing'), ('Steven Brill', 5013, 2, 32593, 'Directing'), ('Steven Zaillian', 5117, 2, 2260, 'Directing'), ('Steven Quale', 5216, 2, 93214, 'Directing'), ('Steven Seagal', 5221, 2, 23880, 'Directing'), ('Steven E. de Souza', 5390, 2, 1726, 'Directing'), ('Steven Shainberg', 5803, 2, 67795, 'Directing'), ('Steven R. Monroe', 6713, 2, 88039, 'Directing')]\n"
          ]
        }
      ],
      "source": [
        "\n",
        "cur.execute(\"SELECT * from directors where name LIKE 'Steven%'\")\n",
        "\n",
        "#use the cursor object to call the execute() method to execute any SQL queries.\n",
        "\n",
        "# where - WHERE clause to get that rows that met these conditions.\n",
        "\n",
        "#LIKE  - LIKE operator is case sensitive, it works like whose names start with particualar word shuould be match\n",
        "\n",
        "# Example - The d% pattern that uses the percent sign wildcard ( %) matches any string that starts with s e.g.,danger and dance,door.\n",
        "\n",
        "\n",
        "name_like = cur.fetchall()\n",
        "print(\"The name like stevens are: \\n \\t\", name_like)\n",
        "\n",
        "\n",
        "\n"
      ]
    },
    {
      "cell_type": "markdown",
      "metadata": {
        "id": "6-y721QYcff8"
      },
      "source": [
        "#### **Question 6:** Count female directors.\n"
      ]
    },
    {
      "cell_type": "code",
      "execution_count": null,
      "metadata": {
        "execution": {
          "iopub.execute_input": "2021-05-20T07:04:23.502341Z",
          "iopub.status.busy": "2021-05-20T07:04:23.501907Z",
          "iopub.status.idle": "2021-05-20T07:04:23.518098Z",
          "shell.execute_reply": "2021-05-20T07:04:23.516415Z",
          "shell.execute_reply.started": "2021-05-20T07:04:23.502305Z"
        },
        "id": "sNWRwOU_cff8",
        "outputId": "90f4a7b5-af45-4898-99c9-f75389aa022f"
      },
      "outputs": [
        {
          "name": "stdout",
          "output_type": "stream",
          "text": [
            "The numbe rof femail directors  are: \n",
            " \t (150,)\n"
          ]
        }
      ],
      "source": [
        "\n",
        "cur.execute(\" SELECT COUNT(*) from directors where gender == 1\")\n",
        "\n",
        "#SQLite SELECT statement provides all features of the SELECT statement in SQL standard.\n",
        "\n",
        "#use the cursor object to call the execute() method to execute any SQL queries.\n",
        "\n",
        "\n",
        "\n",
        "\n",
        "female_directors = cur.fetchall()\n",
        "print(\"The numbe rof femail directors  are: \\n \\t\", female_directors[0])\n",
        "\n",
        "\n",
        "\n"
      ]
    },
    {
      "cell_type": "markdown",
      "metadata": {
        "id": "isuROjkccff8"
      },
      "source": [
        "#### **Question 7:**  Find the name of the 10th first women directors?\n"
      ]
    },
    {
      "cell_type": "code",
      "execution_count": null,
      "metadata": {
        "execution": {
          "iopub.execute_input": "2021-05-20T07:08:31.942483Z",
          "iopub.status.busy": "2021-05-20T07:08:31.942135Z",
          "iopub.status.idle": "2021-05-20T07:08:31.954701Z",
          "shell.execute_reply": "2021-05-20T07:08:31.953712Z",
          "shell.execute_reply.started": "2021-05-20T07:08:31.942454Z"
        },
        "id": "Ym85sN2pcff8",
        "outputId": "5e4f2ae7-e1e6-465c-f576-5ee2d03f4929"
      },
      "outputs": [
        {
          "name": "stdout",
          "output_type": "stream",
          "text": [
            "The name of the 10th first women directors is: \n",
            "\n",
            " \t ('Karyn Kusama',)\n"
          ]
        }
      ],
      "source": [
        "cur.execute(\"SELECT name FROM directors WHERE gender == 1 ORDER by id asc limit 1 OFFSET 10\")\n",
        "\n",
        "#SQLite SELECT statement provides all features of the SELECT statement in SQL standard.\n",
        "\n",
        "#use the cursor object to call the execute() method to execute any SQL queries.\n",
        "#ORDER by - To sort the data we use order by , ascending (asc)  OR Descending (dsc)\n",
        "#LIMIT -  LIMIT clause to constrain the number of rows returned by the query.\n",
        "\n",
        "# LIMIT_OFFSET - clause to get the nth highest or the nth lowest row\n",
        "\n",
        "tenth= cur.fetchall()\n",
        "print(\"The name of the 10th first women directors is: \\n\\n \\t\", tenth[0])\n",
        ""
      ]
    },
    {
      "cell_type": "markdown",
      "metadata": {
        "id": "Jmi0cJhkcff8"
      },
      "source": [
        "#### **Question 8:** What are the 3 most popular movies?\n"
      ]
    },
    {
      "cell_type": "code",
      "execution_count": null,
      "metadata": {
        "execution": {
          "iopub.execute_input": "2021-05-20T07:15:41.804510Z",
          "iopub.status.busy": "2021-05-20T07:15:41.804117Z",
          "iopub.status.idle": "2021-05-20T07:15:42.377031Z",
          "shell.execute_reply": "2021-05-20T07:15:42.375981Z",
          "shell.execute_reply.started": "2021-05-20T07:15:41.804477Z"
        },
        "id": "-5k_VcZQcff8",
        "outputId": "9882a68e-794a-4acd-b6b3-7534b6268469"
      },
      "outputs": [
        {
          "name": "stdout",
          "output_type": "stream",
          "text": [
            "The three most popular movies are: \n",
            "\n",
            " \t [('Minions',), ('Interstellar',), ('Deadpool',)]\n"
          ]
        }
      ],
      "source": [
        "cur.execute(\"SELECT original_title  FROM movies ORDER by popularity desc limit 3\")\n",
        "\n",
        "#SQLite SELECT statement provides all features of the SELECT statement in SQL standard.\n",
        "\n",
        "#use the cursor object to call the execute() method to execute any SQL queries.\n",
        "#ORDER by - To sort the data we use order by , ascending (asc)  OR Descending (dsc)\n",
        "#LIMIT -  LIMIT clause to constrain the number of rows returned by the query.\n",
        "\n",
        "# LIMIT_OFFSET - clause to get the nth highest or the nth lowest row\n",
        "\n",
        "most_popular = cur.fetchall()\n",
        "print(\"The three most popular movies are: \\n\\n \\t\", most_popular)\n",
        ""
      ]
    },
    {
      "cell_type": "markdown",
      "metadata": {
        "id": "TwVb_ANvcff9"
      },
      "source": [
        "#### **Question 9:**  What are the 3 most bankable movies?\n",
        ""
      ]
    },
    {
      "cell_type": "code",
      "execution_count": null,
      "metadata": {
        "execution": {
          "iopub.execute_input": "2021-05-20T07:18:23.561878Z",
          "iopub.status.busy": "2021-05-20T07:18:23.561533Z",
          "iopub.status.idle": "2021-05-20T07:18:24.155417Z",
          "shell.execute_reply": "2021-05-20T07:18:24.153860Z",
          "shell.execute_reply.started": "2021-05-20T07:18:23.561848Z"
        },
        "id": "op2lc9xEcff9",
        "outputId": "c4c40ded-c755-461d-e9f9-d3df89c5924b"
      },
      "outputs": [
        {
          "name": "stdout",
          "output_type": "stream",
          "text": [
            "The three most bankable movies are: \n",
            "\n",
            " \t [('Pirates of the Caribbean: On Stranger Tides',), (\"Pirates of the Caribbean: At World's End\",), ('Avengers: Age of Ultron',)]\n"
          ]
        }
      ],
      "source": [
        "cur.execute(\"SELECT original_title  FROM movies ORDER by budget desc limit 3\")\n",
        "\n",
        "#SQLite SELECT statement provides all features of the SELECT statement in SQL standard.\n",
        "\n",
        "#use the cursor object to call the execute() method to execute any SQL queries.\n",
        "#ORDER by - To sort the data we use order by , ascending (asc)  OR Descending (dsc)\n",
        "#LIMIT -  LIMIT clause to constrain the number of rows returned by the query.\n",
        "\n",
        "# LIMIT_OFFSET - clause to get the nth highest or the nth lowest row\n",
        "\n",
        "most_bankable = cur.fetchall()\n",
        "print(\"The three most bankable movies are: \\n\\n \\t\", most_bankable)\n",
        ""
      ]
    },
    {
      "cell_type": "markdown",
      "metadata": {
        "id": "-hQ60Iwvcff9"
      },
      "source": [
        "#### **Question 10:**  What is the most awarded average vote since the January 1st, 2000?\n"
      ]
    },
    {
      "cell_type": "code",
      "execution_count": null,
      "metadata": {
        "execution": {
          "iopub.execute_input": "2021-05-20T07:21:12.403233Z",
          "iopub.status.busy": "2021-05-20T07:21:12.402863Z",
          "iopub.status.idle": "2021-05-20T07:21:12.968775Z",
          "shell.execute_reply": "2021-05-20T07:21:12.967329Z",
          "shell.execute_reply.started": "2021-05-20T07:21:12.403196Z"
        },
        "id": "jamwLXrWcff9",
        "outputId": "40d0a538-b68d-4712-ff35-8d7d2a43926c"
      },
      "outputs": [
        {
          "name": "stdout",
          "output_type": "stream",
          "text": [
            "The most awarded average vote since the January 1st, 2000: \n",
            "\n",
            " \t [('Sardaarji',)]\n"
          ]
        }
      ],
      "source": [
        "cur.execute(\" SELECT original_title FROM movies WHERE release_date > '2000-01-01' ORDER by vote_average DESC LIMIT 1;\")\n",
        "\n",
        "#SQLite SELECT statement provides all features of the SELECT statement in SQL standard.\n",
        "\n",
        "#use the cursor object to call the execute() method to execute any SQL queries.\n",
        "#ORDER by - To sort the data we use order by , ascending (asc)  OR Descending (dsc)\n",
        "#LIMIT -  LIMIT clause to constrain the number of rows returned by the query.\n",
        "\n",
        "# LIMIT_OFFSET - clause to get the nth highest or the nth lowest row\n",
        "\n",
        "most_awarded_avg = cur.fetchall()\n",
        "print(\"The most awarded average vote since the January 1st, 2000: \\n\\n \\t\", most_awarded_avg)\n",
        ""
      ]
    },
    {
      "cell_type": "markdown",
      "metadata": {
        "id": "hAHcJzmBcff9"
      },
      "source": [
        "### JOINS\n",
        "> Inner join\n",
        "> left join\n",
        "> right join\n",
        "> full outer join\n",
        "- #### Explanation\n",
        "\n",
        "> Inner join : - Wherever the data matching between the two tables only thouse records will displayed . (Only matched in both tables)\n",
        "\n",
        "> Left join : - All the data which is present on the left side will displayed, irrespective it having matching entry will displays or if it does not match entry on another table\n",
        "\n",
        "> Right join : - ( vice-versa ) as Left join From right table all records will displayas, irrespective\n",
        "But in left table who are matching are be displayed\n",
        "\n",
        "> full outer join : -  It is a combination of  Inner join , Left join, Right join.\n",
        "> **Full outer join** shows all matching records,\n",
        "- It will displays all matching records as well as It will display non matching records  On left table and right table.\n",
        "- It will show every thing on what tables contains\n",
        "                        \n",
        "                     \n",
        "        \n",
        "**NOTE**\n",
        "- >  Left join display all records in left table\n",
        "- >  Right join display all records in right table\n",
        "- >  Inner join display only matching records from tables\n",
        "\n"
      ]
    },
    {
      "cell_type": "markdown",
      "metadata": {
        "id": "K-ohlwSZcff9"
      },
      "source": [
        "#### **Question 11:**  Which movie(s) were directed by Brenda Chapman?\n"
      ]
    },
    {
      "cell_type": "code",
      "execution_count": null,
      "metadata": {
        "execution": {
          "iopub.execute_input": "2021-05-20T07:26:42.078521Z",
          "iopub.status.busy": "2021-05-20T07:26:42.078166Z",
          "iopub.status.idle": "2021-05-20T07:26:42.765312Z",
          "shell.execute_reply": "2021-05-20T07:26:42.764278Z",
          "shell.execute_reply.started": "2021-05-20T07:26:42.078491Z"
        },
        "id": "cnw3sd_1cff9",
        "outputId": "80232811-d1f2-4cc0-8828-c52712b24d73"
      },
      "outputs": [
        {
          "name": "stdout",
          "output_type": "stream",
          "text": [
            "The movie(s) were directed by Brenda Chapman \n",
            "\n",
            " \t [('Brave',)]\n"
          ]
        }
      ],
      "source": [
        "\n",
        "cur.execute(\"SELECT original_title FROM movies  JOIN directors ON directors.id = movies.director_id WHERE directors.name = 'Brenda Chapman';\")\n",
        "\n",
        "#SQLite SELECT statement provides all features of the SELECT statement in SQL standard.\n",
        "# JOIN _ joining the tables ,  INNER JOIN, LEFT JOIN, or CROSS JOIN clause.\n",
        "#use the cursor object to call the execute() method to execute any SQL queries.\n",
        "\n",
        "\n",
        "directed_by= cur.fetchall()\n",
        "print(\"The movie(s) were directed by Brenda Chapman \\n\\n \\t\", directed_by)\n",
        ""
      ]
    },
    {
      "cell_type": "markdown",
      "metadata": {
        "id": "eLm4bj3ycff-"
      },
      "source": [
        "#### **Question 12:** Whose director made the most movies?\n",
        "\n"
      ]
    },
    {
      "cell_type": "code",
      "execution_count": null,
      "metadata": {
        "execution": {
          "iopub.execute_input": "2021-05-20T07:29:37.623173Z",
          "iopub.status.busy": "2021-05-20T07:29:37.622729Z",
          "iopub.status.idle": "2021-05-20T07:29:38.312933Z",
          "shell.execute_reply": "2021-05-20T07:29:38.311827Z",
          "shell.execute_reply.started": "2021-05-20T07:29:37.623136Z"
        },
        "id": "sY_VXuWpcff-",
        "outputId": "d3504bf6-eb41-4506-f00f-9485ff1f4701"
      },
      "outputs": [
        {
          "name": "stdout",
          "output_type": "stream",
          "text": [
            "The director made the most movie \n",
            "\n",
            " \t [('Steven Spielberg',)]\n"
          ]
        }
      ],
      "source": [
        "\n",
        "cur.execute(\"SELECT name FROM directors  JOIN movies ON directors.id = movies.director_id GROUP BY director_id ORDER BY count(name) DESC limit 1;\")\n",
        "\n",
        "#SQLite SELECT statement provides all features of the SELECT statement in SQL standard.\n",
        "\n",
        "#use the cursor object to call the execute() method to execute any SQL queries.\n",
        "# JOIN _ joining the tables ,  INNER JOIN, LEFT JOIN, or CROSS JOIN clause.\n",
        "#inner join -. default join is\n",
        "\n",
        "\n",
        "\n",
        "directed_by= cur.fetchall()\n",
        "print(\"The director made the most movie \\n\\n \\t\", directed_by)\n",
        ""
      ]
    },
    {
      "cell_type": "markdown",
      "metadata": {
        "id": "OBG7SOtZcff-"
      },
      "source": [
        "#### **Question 13:** Whose director is the most bankable?\n"
      ]
    },
    {
      "cell_type": "code",
      "execution_count": null,
      "metadata": {
        "execution": {
          "iopub.execute_input": "2021-05-20T07:34:46.691763Z",
          "iopub.status.busy": "2021-05-20T07:34:46.691342Z",
          "iopub.status.idle": "2021-05-20T07:34:47.365747Z",
          "shell.execute_reply": "2021-05-20T07:34:47.364425Z",
          "shell.execute_reply.started": "2021-05-20T07:34:46.691729Z"
        },
        "id": "PCOfBJK9cff-",
        "outputId": "874e740b-a28f-463c-aac3-1257c2a397df"
      },
      "outputs": [
        {
          "name": "stdout",
          "output_type": "stream",
          "text": [
            "The most bankable director is \n",
            "\n",
            " \t [('Steven Spielberg',)]\n"
          ]
        }
      ],
      "source": [
        "\n",
        "cur.execute(\"SELECT name FROM directors JOIN movies ON directors.id = movies.director_id GROUP BY director_id ORDER BY sum(budget) DESC limit 1;\")\n",
        "\n",
        "#SQLite SELECT statement provides all features of the SELECT statement in SQL standard.\n",
        "\n",
        "#use the cursor object to call the execute() method to execute any SQL queries.\n",
        "# JOIN _ joining the tables ,  INNER JOIN, LEFT JOIN, or CROSS JOIN clause.\n",
        "\n",
        "\n",
        "most_bankable_dir= cur.fetchall()\n",
        "print(\"The most bankable director is \\n\\n \\t\", most_bankable_dir)\n",
        ""
      ]
    },
    {
      "cell_type": "markdown",
      "metadata": {
        "id": "Flk8_ZM3cff-"
      },
      "source": [
        "# Analysis on IMDB DATA SET"
      ]
    },
    {
      "cell_type": "markdown",
      "metadata": {
        "id": "G8M_1yyScff-"
      },
      "source": [
        "### Budget Analysis"
      ]
    },
    {
      "cell_type": "markdown",
      "metadata": {
        "id": "b_tZdbnPcff-"
      },
      "source": [
        "**Question** - List out Top 10 highest budget made movies"
      ]
    },
    {
      "cell_type": "code",
      "execution_count": null,
      "metadata": {
        "execution": {
          "iopub.execute_input": "2021-05-20T06:31:34.733140Z",
          "iopub.status.busy": "2021-05-20T06:31:34.732760Z",
          "iopub.status.idle": "2021-05-20T06:31:35.471173Z",
          "shell.execute_reply": "2021-05-20T06:31:35.469925Z",
          "shell.execute_reply.started": "2021-05-20T06:31:34.733109Z"
        },
        "id": "2N4tQd2zcff_",
        "outputId": "c78fa87c-fbac-4a58-b8dc-27fb9a8227d1"
      },
      "outputs": [
        {
          "data": {
            "text/html": [
              "<div>\n",
              "<style scoped>\n",
              "    .dataframe tbody tr th:only-of-type {\n",
              "        vertical-align: middle;\n",
              "    }\n",
              "\n",
              "    .dataframe tbody tr th {\n",
              "        vertical-align: top;\n",
              "    }\n",
              "\n",
              "    .dataframe thead th {\n",
              "        text-align: right;\n",
              "    }\n",
              "</style>\n",
              "<table border=\"1\" class=\"dataframe\">\n",
              "  <thead>\n",
              "    <tr style=\"text-align: right;\">\n",
              "      <th></th>\n",
              "      <th>original_title</th>\n",
              "      <th>director_name</th>\n",
              "      <th>release_date</th>\n",
              "      <th>budget</th>\n",
              "      <th>revenue</th>\n",
              "    </tr>\n",
              "  </thead>\n",
              "  <tbody>\n",
              "    <tr>\n",
              "      <th>0</th>\n",
              "      <td>Pirates of the Caribbean: On Stranger Tides</td>\n",
              "      <td>Rob Marshall</td>\n",
              "      <td>2011-05-14</td>\n",
              "      <td>380000000</td>\n",
              "      <td>1045713802</td>\n",
              "    </tr>\n",
              "    <tr>\n",
              "      <th>1</th>\n",
              "      <td>Pirates of the Caribbean: At World's End</td>\n",
              "      <td>Gore Verbinski</td>\n",
              "      <td>2007-05-19</td>\n",
              "      <td>300000000</td>\n",
              "      <td>961000000</td>\n",
              "    </tr>\n",
              "    <tr>\n",
              "      <th>2</th>\n",
              "      <td>Avengers: Age of Ultron</td>\n",
              "      <td>Joss Whedon</td>\n",
              "      <td>2015-04-22</td>\n",
              "      <td>280000000</td>\n",
              "      <td>1405403694</td>\n",
              "    </tr>\n",
              "    <tr>\n",
              "      <th>3</th>\n",
              "      <td>Superman Returns</td>\n",
              "      <td>Bryan Singer</td>\n",
              "      <td>2006-06-28</td>\n",
              "      <td>270000000</td>\n",
              "      <td>391081192</td>\n",
              "    </tr>\n",
              "    <tr>\n",
              "      <th>4</th>\n",
              "      <td>John Carter</td>\n",
              "      <td>Andrew Stanton</td>\n",
              "      <td>2012-03-07</td>\n",
              "      <td>260000000</td>\n",
              "      <td>284139100</td>\n",
              "    </tr>\n",
              "    <tr>\n",
              "      <th>5</th>\n",
              "      <td>Tangled</td>\n",
              "      <td>Byron Howard</td>\n",
              "      <td>2010-11-24</td>\n",
              "      <td>260000000</td>\n",
              "      <td>591794936</td>\n",
              "    </tr>\n",
              "    <tr>\n",
              "      <th>6</th>\n",
              "      <td>Spider-Man 3</td>\n",
              "      <td>Sam Raimi</td>\n",
              "      <td>2007-05-01</td>\n",
              "      <td>258000000</td>\n",
              "      <td>890871626</td>\n",
              "    </tr>\n",
              "    <tr>\n",
              "      <th>7</th>\n",
              "      <td>The Lone Ranger</td>\n",
              "      <td>Gore Verbinski</td>\n",
              "      <td>2013-07-03</td>\n",
              "      <td>255000000</td>\n",
              "      <td>89289910</td>\n",
              "    </tr>\n",
              "    <tr>\n",
              "      <th>8</th>\n",
              "      <td>The Dark Knight Rises</td>\n",
              "      <td>Christopher Nolan</td>\n",
              "      <td>2012-07-16</td>\n",
              "      <td>250000000</td>\n",
              "      <td>1084939099</td>\n",
              "    </tr>\n",
              "    <tr>\n",
              "      <th>9</th>\n",
              "      <td>Harry Potter and the Half-Blood Prince</td>\n",
              "      <td>David Yates</td>\n",
              "      <td>2009-07-07</td>\n",
              "      <td>250000000</td>\n",
              "      <td>933959197</td>\n",
              "    </tr>\n",
              "  </tbody>\n",
              "</table>\n",
              "</div>"
            ],
            "text/plain": [
              "                                original_title      director_name  \\\n",
              "0  Pirates of the Caribbean: On Stranger Tides       Rob Marshall   \n",
              "1     Pirates of the Caribbean: At World's End     Gore Verbinski   \n",
              "2                      Avengers: Age of Ultron        Joss Whedon   \n",
              "3                             Superman Returns       Bryan Singer   \n",
              "4                                  John Carter     Andrew Stanton   \n",
              "5                                      Tangled       Byron Howard   \n",
              "6                                 Spider-Man 3          Sam Raimi   \n",
              "7                              The Lone Ranger     Gore Verbinski   \n",
              "8                        The Dark Knight Rises  Christopher Nolan   \n",
              "9       Harry Potter and the Half-Blood Prince        David Yates   \n",
              "\n",
              "  release_date     budget     revenue  \n",
              "0   2011-05-14  380000000  1045713802  \n",
              "1   2007-05-19  300000000   961000000  \n",
              "2   2015-04-22  280000000  1405403694  \n",
              "3   2006-06-28  270000000   391081192  \n",
              "4   2012-03-07  260000000   284139100  \n",
              "5   2010-11-24  260000000   591794936  \n",
              "6   2007-05-01  258000000   890871626  \n",
              "7   2013-07-03  255000000    89289910  \n",
              "8   2012-07-16  250000000  1084939099  \n",
              "9   2009-07-07  250000000   933959197  "
            ]
          },
          "execution_count": 18,
          "metadata": {},
          "output_type": "execute_result"
        }
      ],
      "source": [
        "\n",
        "\n",
        "cur.execute('SELECT original_title, name, release_date, budget, revenue FROM movies JOIN directors ON movies.director_id = directors.id ORDER BY budget DESC')\n",
        "mostExpensive = cur.fetchall()\n",
        "mostExpensive = pd.DataFrame(mostExpensive, columns = ['original_title', 'director_name', 'release_date', 'budget', 'revenue'])\n",
        "mostExpensive.head(10)"
      ]
    },
    {
      "cell_type": "markdown",
      "metadata": {
        "id": "5jtSzx1Mcff_"
      },
      "source": [
        "\n",
        "\n",
        "\n",
        "\n",
        "> ## Note :\n",
        "\n",
        "The mostExpensive Table Contains List Of Movies With Highest Production Costs.\n",
        "\n",
        "For Your Information, Pirates of the Caribbean: On Stranger Tides, Directed By Rob Marshall, Is The Most Production Costs, It's USD 380,000,000."
      ]
    },
    {
      "cell_type": "markdown",
      "metadata": {
        "id": "bweimo2Scff_"
      },
      "source": [
        "### Popularity Analysis"
      ]
    },
    {
      "cell_type": "markdown",
      "metadata": {
        "id": "yK_vPPStcfgA"
      },
      "source": [
        "**Question**- List out Top 10 popularity on movies"
      ]
    },
    {
      "cell_type": "code",
      "execution_count": null,
      "metadata": {
        "execution": {
          "iopub.execute_input": "2021-05-20T06:32:14.412452Z",
          "iopub.status.busy": "2021-05-20T06:32:14.411999Z",
          "iopub.status.idle": "2021-05-20T06:32:15.201058Z",
          "shell.execute_reply": "2021-05-20T06:32:15.199853Z",
          "shell.execute_reply.started": "2021-05-20T06:32:14.412416Z"
        },
        "id": "sqhf8a10cfgA",
        "outputId": "406f2e45-63a6-44f4-f103-bb00d9485cf2"
      },
      "outputs": [
        {
          "data": {
            "text/html": [
              "<div>\n",
              "<style scoped>\n",
              "    .dataframe tbody tr th:only-of-type {\n",
              "        vertical-align: middle;\n",
              "    }\n",
              "\n",
              "    .dataframe tbody tr th {\n",
              "        vertical-align: top;\n",
              "    }\n",
              "\n",
              "    .dataframe thead th {\n",
              "        text-align: right;\n",
              "    }\n",
              "</style>\n",
              "<table border=\"1\" class=\"dataframe\">\n",
              "  <thead>\n",
              "    <tr style=\"text-align: right;\">\n",
              "      <th></th>\n",
              "      <th>original_title</th>\n",
              "      <th>director_name</th>\n",
              "      <th>release_date</th>\n",
              "      <th>popularity</th>\n",
              "      <th>revenue</th>\n",
              "    </tr>\n",
              "  </thead>\n",
              "  <tbody>\n",
              "    <tr>\n",
              "      <th>0</th>\n",
              "      <td>Minions</td>\n",
              "      <td>Kyle Balda</td>\n",
              "      <td>2015-06-17</td>\n",
              "      <td>875</td>\n",
              "      <td>1156730962</td>\n",
              "    </tr>\n",
              "    <tr>\n",
              "      <th>1</th>\n",
              "      <td>Interstellar</td>\n",
              "      <td>Christopher Nolan</td>\n",
              "      <td>2014-11-05</td>\n",
              "      <td>724</td>\n",
              "      <td>675120017</td>\n",
              "    </tr>\n",
              "    <tr>\n",
              "      <th>2</th>\n",
              "      <td>Deadpool</td>\n",
              "      <td>Tim Miller</td>\n",
              "      <td>2016-02-09</td>\n",
              "      <td>514</td>\n",
              "      <td>783112979</td>\n",
              "    </tr>\n",
              "    <tr>\n",
              "      <th>3</th>\n",
              "      <td>Guardians of the Galaxy</td>\n",
              "      <td>James Gunn</td>\n",
              "      <td>2014-07-30</td>\n",
              "      <td>481</td>\n",
              "      <td>773328629</td>\n",
              "    </tr>\n",
              "    <tr>\n",
              "      <th>4</th>\n",
              "      <td>Mad Max: Fury Road</td>\n",
              "      <td>George Miller</td>\n",
              "      <td>2015-05-13</td>\n",
              "      <td>434</td>\n",
              "      <td>378858340</td>\n",
              "    </tr>\n",
              "    <tr>\n",
              "      <th>5</th>\n",
              "      <td>Jurassic World</td>\n",
              "      <td>Colin Trevorrow</td>\n",
              "      <td>2015-06-09</td>\n",
              "      <td>418</td>\n",
              "      <td>1513528810</td>\n",
              "    </tr>\n",
              "    <tr>\n",
              "      <th>6</th>\n",
              "      <td>Pirates of the Caribbean: The Curse of the Bla...</td>\n",
              "      <td>Gore Verbinski</td>\n",
              "      <td>2003-07-09</td>\n",
              "      <td>271</td>\n",
              "      <td>655011224</td>\n",
              "    </tr>\n",
              "    <tr>\n",
              "      <th>7</th>\n",
              "      <td>Dawn of the Planet of the Apes</td>\n",
              "      <td>Matt Reeves</td>\n",
              "      <td>2014-06-26</td>\n",
              "      <td>243</td>\n",
              "      <td>710644566</td>\n",
              "    </tr>\n",
              "    <tr>\n",
              "      <th>8</th>\n",
              "      <td>The Hunger Games: Mockingjay - Part 1</td>\n",
              "      <td>Francis Lawrence</td>\n",
              "      <td>2014-11-18</td>\n",
              "      <td>206</td>\n",
              "      <td>752100229</td>\n",
              "    </tr>\n",
              "    <tr>\n",
              "      <th>9</th>\n",
              "      <td>Big Hero 6</td>\n",
              "      <td>Chris Williams</td>\n",
              "      <td>2014-10-24</td>\n",
              "      <td>203</td>\n",
              "      <td>652105443</td>\n",
              "    </tr>\n",
              "  </tbody>\n",
              "</table>\n",
              "</div>"
            ],
            "text/plain": [
              "                                      original_title      director_name  \\\n",
              "0                                            Minions         Kyle Balda   \n",
              "1                                       Interstellar  Christopher Nolan   \n",
              "2                                           Deadpool         Tim Miller   \n",
              "3                            Guardians of the Galaxy         James Gunn   \n",
              "4                                 Mad Max: Fury Road      George Miller   \n",
              "5                                     Jurassic World    Colin Trevorrow   \n",
              "6  Pirates of the Caribbean: The Curse of the Bla...     Gore Verbinski   \n",
              "7                     Dawn of the Planet of the Apes        Matt Reeves   \n",
              "8              The Hunger Games: Mockingjay - Part 1   Francis Lawrence   \n",
              "9                                         Big Hero 6     Chris Williams   \n",
              "\n",
              "  release_date  popularity     revenue  \n",
              "0   2015-06-17         875  1156730962  \n",
              "1   2014-11-05         724   675120017  \n",
              "2   2016-02-09         514   783112979  \n",
              "3   2014-07-30         481   773328629  \n",
              "4   2015-05-13         434   378858340  \n",
              "5   2015-06-09         418  1513528810  \n",
              "6   2003-07-09         271   655011224  \n",
              "7   2014-06-26         243   710644566  \n",
              "8   2014-11-18         206   752100229  \n",
              "9   2014-10-24         203   652105443  "
            ]
          },
          "execution_count": 19,
          "metadata": {},
          "output_type": "execute_result"
        }
      ],
      "source": [
        "\n",
        "cur.execute('SELECT original_title, name, release_date, popularity, revenue FROM movies JOIN directors ON movies.director_id = directors.id ORDER BY popularity DESC')\n",
        "mostPopular = cur.fetchall()\n",
        "mostPopular = pd.DataFrame(mostPopular, columns = ['original_title', 'director_name', 'release_date', 'popularity', 'revenue'])\n",
        "mostPopular.head(10)"
      ]
    },
    {
      "cell_type": "markdown",
      "metadata": {
        "id": "oYUeI4HIcfgA"
      },
      "source": [
        "\n",
        "\n",
        "> ## Note:\n",
        "\n",
        "mostPopular Table Shows 10 Movies With The Highest Ranking By Popularity.\n",
        "\n",
        "Currently, Minions Directed By Kyle Balda Got The First Place With Score 875, Beating Interstellar As The Closest Competitor, Deadpool And The Other Competitors."
      ]
    },
    {
      "cell_type": "markdown",
      "metadata": {
        "id": "9hhtqQafcfgA"
      },
      "source": [
        "### Revenu Analysis"
      ]
    },
    {
      "cell_type": "markdown",
      "metadata": {
        "id": "ie0IGr8vcfgA"
      },
      "source": [
        "**Question** - What are the top 10 Revenue  movies  "
      ]
    },
    {
      "cell_type": "code",
      "execution_count": null,
      "metadata": {
        "execution": {
          "iopub.execute_input": "2021-05-20T06:32:23.548460Z",
          "iopub.status.busy": "2021-05-20T06:32:23.548049Z",
          "iopub.status.idle": "2021-05-20T06:32:24.153758Z",
          "shell.execute_reply": "2021-05-20T06:32:24.152397Z",
          "shell.execute_reply.started": "2021-05-20T06:32:23.548426Z"
        },
        "id": "q96brnnGcfgA",
        "outputId": "3cab7b09-a9f0-4e9a-da55-f7636e69d8a7"
      },
      "outputs": [
        {
          "data": {
            "text/html": [
              "<div>\n",
              "<style scoped>\n",
              "    .dataframe tbody tr th:only-of-type {\n",
              "        vertical-align: middle;\n",
              "    }\n",
              "\n",
              "    .dataframe tbody tr th {\n",
              "        vertical-align: top;\n",
              "    }\n",
              "\n",
              "    .dataframe thead th {\n",
              "        text-align: right;\n",
              "    }\n",
              "</style>\n",
              "<table border=\"1\" class=\"dataframe\">\n",
              "  <thead>\n",
              "    <tr style=\"text-align: right;\">\n",
              "      <th></th>\n",
              "      <th>original_title</th>\n",
              "      <th>director_name</th>\n",
              "      <th>release_date</th>\n",
              "      <th>revenue</th>\n",
              "    </tr>\n",
              "  </thead>\n",
              "  <tbody>\n",
              "    <tr>\n",
              "      <th>0</th>\n",
              "      <td>Avatar</td>\n",
              "      <td>James Cameron</td>\n",
              "      <td>2009-12-10</td>\n",
              "      <td>2787965087</td>\n",
              "    </tr>\n",
              "    <tr>\n",
              "      <th>1</th>\n",
              "      <td>Titanic</td>\n",
              "      <td>James Cameron</td>\n",
              "      <td>1997-11-18</td>\n",
              "      <td>1845034188</td>\n",
              "    </tr>\n",
              "    <tr>\n",
              "      <th>2</th>\n",
              "      <td>The Avengers</td>\n",
              "      <td>Joss Whedon</td>\n",
              "      <td>2012-04-25</td>\n",
              "      <td>1519557910</td>\n",
              "    </tr>\n",
              "    <tr>\n",
              "      <th>3</th>\n",
              "      <td>Jurassic World</td>\n",
              "      <td>Colin Trevorrow</td>\n",
              "      <td>2015-06-09</td>\n",
              "      <td>1513528810</td>\n",
              "    </tr>\n",
              "    <tr>\n",
              "      <th>4</th>\n",
              "      <td>Furious 7</td>\n",
              "      <td>James Wan</td>\n",
              "      <td>2015-04-01</td>\n",
              "      <td>1506249360</td>\n",
              "    </tr>\n",
              "    <tr>\n",
              "      <th>5</th>\n",
              "      <td>Avengers: Age of Ultron</td>\n",
              "      <td>Joss Whedon</td>\n",
              "      <td>2015-04-22</td>\n",
              "      <td>1405403694</td>\n",
              "    </tr>\n",
              "    <tr>\n",
              "      <th>6</th>\n",
              "      <td>Frozen</td>\n",
              "      <td>Chris Buck</td>\n",
              "      <td>2013-11-27</td>\n",
              "      <td>1274219009</td>\n",
              "    </tr>\n",
              "    <tr>\n",
              "      <th>7</th>\n",
              "      <td>Iron Man 3</td>\n",
              "      <td>Shane Black</td>\n",
              "      <td>2013-04-18</td>\n",
              "      <td>1215439994</td>\n",
              "    </tr>\n",
              "    <tr>\n",
              "      <th>8</th>\n",
              "      <td>Minions</td>\n",
              "      <td>Kyle Balda</td>\n",
              "      <td>2015-06-17</td>\n",
              "      <td>1156730962</td>\n",
              "    </tr>\n",
              "    <tr>\n",
              "      <th>9</th>\n",
              "      <td>Captain America: Civil War</td>\n",
              "      <td>Anthony Russo</td>\n",
              "      <td>2016-04-27</td>\n",
              "      <td>1153304495</td>\n",
              "    </tr>\n",
              "  </tbody>\n",
              "</table>\n",
              "</div>"
            ],
            "text/plain": [
              "               original_title    director_name release_date     revenue\n",
              "0                      Avatar    James Cameron   2009-12-10  2787965087\n",
              "1                     Titanic    James Cameron   1997-11-18  1845034188\n",
              "2                The Avengers      Joss Whedon   2012-04-25  1519557910\n",
              "3              Jurassic World  Colin Trevorrow   2015-06-09  1513528810\n",
              "4                   Furious 7        James Wan   2015-04-01  1506249360\n",
              "5     Avengers: Age of Ultron      Joss Whedon   2015-04-22  1405403694\n",
              "6                      Frozen       Chris Buck   2013-11-27  1274219009\n",
              "7                  Iron Man 3      Shane Black   2013-04-18  1215439994\n",
              "8                     Minions       Kyle Balda   2015-06-17  1156730962\n",
              "9  Captain America: Civil War    Anthony Russo   2016-04-27  1153304495"
            ]
          },
          "execution_count": 20,
          "metadata": {},
          "output_type": "execute_result"
        }
      ],
      "source": [
        "\n",
        "cur.execute('SELECT original_title, name, release_date, revenue FROM movies JOIN directors ON movies.director_id = directors.id ORDER BY revenue DESC')\n",
        "mostProfit = cur.fetchall()\n",
        "mostProfit = pd.DataFrame(mostProfit, columns = ['original_title', 'director_name', 'release_date', 'revenue'])\n",
        "mostProfit.head(10)"
      ]
    },
    {
      "cell_type": "markdown",
      "metadata": {
        "id": "FS5r7-33cfgA"
      },
      "source": [
        "\n",
        "\n",
        "> ## Note :\n",
        "\n",
        "The mostProfit Table Shows The 10 Movies Got The Highest Gross Profit When Compared To The Other Movies.\n",
        "\n",
        "It Turns Out That Avatar Directed By James Cameron Got A Gross Profit USD 2,787,965,087. It's Make Avatar In First Place, Followed By Titanic, The Avengers, Jurassic World, And Others.\n",
        "\n",
        "From The Table, It Can Be Seen That James Cameron Make Two Movies To Fill The First And Second Place On The Rankings.\n",
        "\n"
      ]
    },
    {
      "cell_type": "markdown",
      "metadata": {
        "id": "S4WhBs4ZcfgA"
      },
      "source": [
        "**Question** - Display most popular movies with vote_average"
      ]
    },
    {
      "cell_type": "code",
      "execution_count": null,
      "metadata": {
        "execution": {
          "iopub.execute_input": "2021-05-20T06:32:29.627651Z",
          "iopub.status.busy": "2021-05-20T06:32:29.627233Z",
          "iopub.status.idle": "2021-05-20T06:32:30.199040Z",
          "shell.execute_reply": "2021-05-20T06:32:30.197761Z",
          "shell.execute_reply.started": "2021-05-20T06:32:29.627610Z"
        },
        "id": "63lUJh-gcfgB",
        "outputId": "08f46ab6-eb23-4f25-c77e-9fbded63347f"
      },
      "outputs": [
        {
          "data": {
            "text/html": [
              "<div>\n",
              "<style scoped>\n",
              "    .dataframe tbody tr th:only-of-type {\n",
              "        vertical-align: middle;\n",
              "    }\n",
              "\n",
              "    .dataframe tbody tr th {\n",
              "        vertical-align: top;\n",
              "    }\n",
              "\n",
              "    .dataframe thead th {\n",
              "        text-align: right;\n",
              "    }\n",
              "</style>\n",
              "<table border=\"1\" class=\"dataframe\">\n",
              "  <thead>\n",
              "    <tr style=\"text-align: right;\">\n",
              "      <th></th>\n",
              "      <th>original_title</th>\n",
              "      <th>release_date</th>\n",
              "      <th>budget</th>\n",
              "      <th>revenue</th>\n",
              "      <th>popularity</th>\n",
              "      <th>vote_average</th>\n",
              "    </tr>\n",
              "  </thead>\n",
              "  <tbody>\n",
              "    <tr>\n",
              "      <th>0</th>\n",
              "      <td>Avatar</td>\n",
              "      <td>2009-12-10</td>\n",
              "      <td>237000000</td>\n",
              "      <td>2787965087</td>\n",
              "      <td>150</td>\n",
              "      <td>7.2</td>\n",
              "    </tr>\n",
              "    <tr>\n",
              "      <th>1</th>\n",
              "      <td>Titanic</td>\n",
              "      <td>1997-11-18</td>\n",
              "      <td>200000000</td>\n",
              "      <td>1845034188</td>\n",
              "      <td>100</td>\n",
              "      <td>7.5</td>\n",
              "    </tr>\n",
              "    <tr>\n",
              "      <th>2</th>\n",
              "      <td>Terminator 2: Judgment Day</td>\n",
              "      <td>1991-07-01</td>\n",
              "      <td>100000000</td>\n",
              "      <td>520000000</td>\n",
              "      <td>101</td>\n",
              "      <td>7.7</td>\n",
              "    </tr>\n",
              "    <tr>\n",
              "      <th>3</th>\n",
              "      <td>True Lies</td>\n",
              "      <td>1994-07-14</td>\n",
              "      <td>115000000</td>\n",
              "      <td>378882411</td>\n",
              "      <td>38</td>\n",
              "      <td>6.8</td>\n",
              "    </tr>\n",
              "    <tr>\n",
              "      <th>4</th>\n",
              "      <td>Aliens</td>\n",
              "      <td>1986-07-18</td>\n",
              "      <td>18500000</td>\n",
              "      <td>183316455</td>\n",
              "      <td>67</td>\n",
              "      <td>7.7</td>\n",
              "    </tr>\n",
              "    <tr>\n",
              "      <th>5</th>\n",
              "      <td>The Abyss</td>\n",
              "      <td>1989-08-09</td>\n",
              "      <td>70000000</td>\n",
              "      <td>90000098</td>\n",
              "      <td>24</td>\n",
              "      <td>7.1</td>\n",
              "    </tr>\n",
              "    <tr>\n",
              "      <th>6</th>\n",
              "      <td>The Terminator</td>\n",
              "      <td>1984-10-26</td>\n",
              "      <td>6400000</td>\n",
              "      <td>78371200</td>\n",
              "      <td>74</td>\n",
              "      <td>7.3</td>\n",
              "    </tr>\n",
              "  </tbody>\n",
              "</table>\n",
              "</div>"
            ],
            "text/plain": [
              "               original_title release_date     budget     revenue  popularity  \\\n",
              "0                      Avatar   2009-12-10  237000000  2787965087         150   \n",
              "1                     Titanic   1997-11-18  200000000  1845034188         100   \n",
              "2  Terminator 2: Judgment Day   1991-07-01  100000000   520000000         101   \n",
              "3                   True Lies   1994-07-14  115000000   378882411          38   \n",
              "4                      Aliens   1986-07-18   18500000   183316455          67   \n",
              "5                   The Abyss   1989-08-09   70000000    90000098          24   \n",
              "6              The Terminator   1984-10-26    6400000    78371200          74   \n",
              "\n",
              "   vote_average  \n",
              "0           7.2  \n",
              "1           7.5  \n",
              "2           7.7  \n",
              "3           6.8  \n",
              "4           7.7  \n",
              "5           7.1  \n",
              "6           7.3  "
            ]
          },
          "execution_count": 21,
          "metadata": {},
          "output_type": "execute_result"
        }
      ],
      "source": [
        "\n",
        "cur.execute('SELECT original_title, release_date, budget, revenue, popularity, vote_average FROM directors JOIN movies ON directors.id = movies.director_id WHERE name = \"James Cameron\" ORDER BY revenue DESC')\n",
        "moviesByJamesCameron = cur.fetchall()\n",
        "moviesByJamesCameron = pd.DataFrame(moviesByJamesCameron, columns = ['original_title', 'release_date', 'budget', 'revenue', 'popularity', 'vote_average'])\n",
        "moviesByJamesCameron"
      ]
    },
    {
      "cell_type": "markdown",
      "metadata": {
        "id": "_xPSKCUdcfgB"
      },
      "source": [
        "\n",
        "\n",
        "> ## Note :\n",
        "\n",
        "From the mostProfit Table, It Can Be Seen That The Movies In The First And Second Rank Is A Movies Directed By James Cameron.\n",
        "\n",
        "In The Table moviesByJamesCameron Shows All Movies Directed By James Cameron."
      ]
    },
    {
      "cell_type": "markdown",
      "metadata": {
        "id": "zcAwo2ixcfgB"
      },
      "source": [
        "### Voting Analysis"
      ]
    },
    {
      "cell_type": "markdown",
      "metadata": {
        "id": "LXJ4acPKcfgB"
      },
      "source": [
        "**Question** - List out Particular movie for Voting average and votecount"
      ]
    },
    {
      "cell_type": "code",
      "execution_count": null,
      "metadata": {
        "execution": {
          "iopub.execute_input": "2021-05-20T06:32:35.427485Z",
          "iopub.status.busy": "2021-05-20T06:32:35.427054Z",
          "iopub.status.idle": "2021-05-20T06:32:36.079015Z",
          "shell.execute_reply": "2021-05-20T06:32:36.077690Z",
          "shell.execute_reply.started": "2021-05-20T06:32:35.427450Z"
        },
        "id": "P2Apdd4BcfgB",
        "outputId": "98c0e5e4-37b5-4d93-c27d-40f86799da5e"
      },
      "outputs": [
        {
          "data": {
            "text/html": [
              "<div>\n",
              "<style scoped>\n",
              "    .dataframe tbody tr th:only-of-type {\n",
              "        vertical-align: middle;\n",
              "    }\n",
              "\n",
              "    .dataframe tbody tr th {\n",
              "        vertical-align: top;\n",
              "    }\n",
              "\n",
              "    .dataframe thead th {\n",
              "        text-align: right;\n",
              "    }\n",
              "</style>\n",
              "<table border=\"1\" class=\"dataframe\">\n",
              "  <thead>\n",
              "    <tr style=\"text-align: right;\">\n",
              "      <th></th>\n",
              "      <th>original_title</th>\n",
              "      <th>director_name</th>\n",
              "      <th>release_date</th>\n",
              "      <th>vote_average</th>\n",
              "      <th>vote_count</th>\n",
              "    </tr>\n",
              "  </thead>\n",
              "  <tbody>\n",
              "    <tr>\n",
              "      <th>0</th>\n",
              "      <td>Stiff Upper Lips</td>\n",
              "      <td>Gary Sinyor</td>\n",
              "      <td>1998-06-12</td>\n",
              "      <td>10.0</td>\n",
              "      <td>1</td>\n",
              "    </tr>\n",
              "    <tr>\n",
              "      <th>1</th>\n",
              "      <td>Dancer, Texas Pop. 81</td>\n",
              "      <td>Tim McCanlies</td>\n",
              "      <td>1998-05-01</td>\n",
              "      <td>10.0</td>\n",
              "      <td>1</td>\n",
              "    </tr>\n",
              "    <tr>\n",
              "      <th>2</th>\n",
              "      <td>Sardaarji</td>\n",
              "      <td>Rohit Jugraj</td>\n",
              "      <td>2015-06-26</td>\n",
              "      <td>9.5</td>\n",
              "      <td>2</td>\n",
              "    </tr>\n",
              "    <tr>\n",
              "      <th>3</th>\n",
              "      <td>One Man's Hero</td>\n",
              "      <td>Lance Hool</td>\n",
              "      <td>1999-08-02</td>\n",
              "      <td>9.3</td>\n",
              "      <td>2</td>\n",
              "    </tr>\n",
              "    <tr>\n",
              "      <th>4</th>\n",
              "      <td>The Shawshank Redemption</td>\n",
              "      <td>Frank Darabont</td>\n",
              "      <td>1994-09-23</td>\n",
              "      <td>8.5</td>\n",
              "      <td>8205</td>\n",
              "    </tr>\n",
              "    <tr>\n",
              "      <th>5</th>\n",
              "      <td>There Goes My Baby</td>\n",
              "      <td>Floyd Mutrux</td>\n",
              "      <td>1994-09-02</td>\n",
              "      <td>8.5</td>\n",
              "      <td>2</td>\n",
              "    </tr>\n",
              "    <tr>\n",
              "      <th>6</th>\n",
              "      <td>The Prisoner of Zenda</td>\n",
              "      <td>John Cromwell</td>\n",
              "      <td>1937-09-03</td>\n",
              "      <td>8.4</td>\n",
              "      <td>11</td>\n",
              "    </tr>\n",
              "    <tr>\n",
              "      <th>7</th>\n",
              "      <td>The Godfather</td>\n",
              "      <td>Francis Ford Coppola</td>\n",
              "      <td>1972-03-14</td>\n",
              "      <td>8.4</td>\n",
              "      <td>5893</td>\n",
              "    </tr>\n",
              "    <tr>\n",
              "      <th>8</th>\n",
              "      <td>Fight Club</td>\n",
              "      <td>David Fincher</td>\n",
              "      <td>1999-10-15</td>\n",
              "      <td>8.3</td>\n",
              "      <td>9413</td>\n",
              "    </tr>\n",
              "    <tr>\n",
              "      <th>9</th>\n",
              "      <td>Schindler's List</td>\n",
              "      <td>Steven Spielberg</td>\n",
              "      <td>1993-11-29</td>\n",
              "      <td>8.3</td>\n",
              "      <td>4329</td>\n",
              "    </tr>\n",
              "  </tbody>\n",
              "</table>\n",
              "</div>"
            ],
            "text/plain": [
              "             original_title         director_name release_date  vote_average  \\\n",
              "0          Stiff Upper Lips           Gary Sinyor   1998-06-12          10.0   \n",
              "1     Dancer, Texas Pop. 81         Tim McCanlies   1998-05-01          10.0   \n",
              "2                 Sardaarji          Rohit Jugraj   2015-06-26           9.5   \n",
              "3            One Man's Hero            Lance Hool   1999-08-02           9.3   \n",
              "4  The Shawshank Redemption        Frank Darabont   1994-09-23           8.5   \n",
              "5        There Goes My Baby          Floyd Mutrux   1994-09-02           8.5   \n",
              "6     The Prisoner of Zenda         John Cromwell   1937-09-03           8.4   \n",
              "7             The Godfather  Francis Ford Coppola   1972-03-14           8.4   \n",
              "8                Fight Club         David Fincher   1999-10-15           8.3   \n",
              "9          Schindler's List      Steven Spielberg   1993-11-29           8.3   \n",
              "\n",
              "   vote_count  \n",
              "0           1  \n",
              "1           1  \n",
              "2           2  \n",
              "3           2  \n",
              "4        8205  \n",
              "5           2  \n",
              "6          11  \n",
              "7        5893  \n",
              "8        9413  \n",
              "9        4329  "
            ]
          },
          "execution_count": 22,
          "metadata": {},
          "output_type": "execute_result"
        }
      ],
      "source": [
        "\n",
        "\n",
        "cur.execute('SELECT original_title, name, release_date, vote_average, vote_count FROM movies JOIN directors ON movies.director_id = directors.id ORDER BY vote_average DESC')\n",
        "bestVote = cur.fetchall()\n",
        "bestVote = pd.DataFrame(bestVote, columns = ['original_title', 'director_name', 'release_date',  'vote_average', 'vote_count'])\n",
        "bestVote.head(10)"
      ]
    },
    {
      "cell_type": "markdown",
      "metadata": {
        "id": "2Tqu5IqmcfgB"
      },
      "source": [
        "\n",
        "\n",
        "> ## Note :\n",
        "\n",
        "BestVote Table Contains The Best Movies By Vote. Stiff Upper Lips, Directed By Gary Sinyor And Dancer, Texas Pop. 81 Directed by the MacCanlies Was Successfully Becomes the Best Movies By Vote With Perfect Score, 10.\n",
        "\n",
        "However, There Are Anomalies. It Turned Out That The Two Movies Were Only Vote By One Person. So, Likely to Affect The Assessment Results.."
      ]
    },
    {
      "cell_type": "markdown",
      "metadata": {
        "id": "cjbGnsnxcfgC"
      },
      "source": [
        "### CORRELATION\n",
        "- **Correlation** is also a statistical technique that determines how the change of one variable related to another variable affects the relationship.\n",
        "-  it defines the degree of relation between two variables. There exist three types of correlations - positive and negative, and zero correlations.\n",
        "\n",
        "\n",
        "\n",
        "> The main intention of Seaborn heatmap is to visualize the correlation matrix of data for feature selection to solve business problems\n",
        "> Python data visualization seaborn library has a powerful function that is called sns.heatmap().\n",
        "> annot — **annot** when set to True, the correlation values become visible on the colored cells\n",
        "> linewidth- **linewidth** Width of the lines that will divide each cell.\n"
      ]
    },
    {
      "cell_type": "code",
      "execution_count": null,
      "metadata": {
        "execution": {
          "iopub.execute_input": "2021-05-20T06:36:19.925957Z",
          "iopub.status.busy": "2021-05-20T06:36:19.925580Z",
          "iopub.status.idle": "2021-05-20T06:36:20.259321Z",
          "shell.execute_reply": "2021-05-20T06:36:20.257970Z",
          "shell.execute_reply.started": "2021-05-20T06:36:19.925927Z"
        },
        "id": "MVD0g6SmcfgC",
        "outputId": "0a3fd819-5359-40a1-dfad-ce258111cfef"
      },
      "outputs": [
        {
          "data": {
            "image/png": "[encoded data removed]",
            "text/plain": [
              "<Figure size 800x800 with 2 Axes>"
            ]
          },
          "metadata": {},
          "output_type": "display_data"
        }
      ],
      "source": [
        "# plot a heatmap of correlation\n",
        "#corr() is used to create the correlation matrix.\n",
        "#You'll have to make sure that all the elements in the matrix are of numeric type.\n",
        "#If they are not of the numeric type you'll have to add or concat them explicitly.\n",
        "\n",
        "sns.set(rc = {'figure.figsize': (8, 8)})\n",
        "sns.heatmap(movies[['budget', 'popularity', 'revenue', 'vote_average', 'director_id']].corr(),\n",
        "            annot = True, fmt = '.2f', linewidth = 1);"
      ]
    },
    {
      "cell_type": "markdown",
      "metadata": {
        "id": "5maSWb22cfgC"
      },
      "source": [
        "\n",
        "\n",
        "> ## Note On correlation :\n",
        "\n",
        "The Heat Map Graph Shows The Effect Between One Variable To The Other Variables.\n",
        "\n",
        "In The Graph, It Is Clear That budget Has The Greatest Impact on revenue with 0.73.\n",
        "\n",
        "Meanwhile, popularity Is Quite Impact On revenue, And director_id Which Means director_name Also Has A Correlation With revenue, Even Though It Is Small.\n",
        "\n",
        "However, vote_average Has A Very Small Correlation With revenue."
      ]
    },
    {
      "cell_type": "markdown",
      "metadata": {
        "id": "zvVle9mWcfgC"
      },
      "source": [
        "### Directors"
      ]
    },
    {
      "cell_type": "markdown",
      "metadata": {
        "id": "nlwwvUyTcfgC"
      },
      "source": [
        "**Question**- List out the  director names with number of movies and revenue"
      ]
    },
    {
      "cell_type": "code",
      "execution_count": null,
      "metadata": {
        "execution": {
          "iopub.execute_input": "2021-05-20T06:36:26.683973Z",
          "iopub.status.busy": "2021-05-20T06:36:26.683552Z",
          "iopub.status.idle": "2021-05-20T06:36:27.314913Z",
          "shell.execute_reply": "2021-05-20T06:36:27.313530Z",
          "shell.execute_reply.started": "2021-05-20T06:36:26.683941Z"
        },
        "id": "inyqPzW9cfgD",
        "outputId": "6ca0ecdd-fff6-45dc-b94f-5faccab994a7"
      },
      "outputs": [
        {
          "data": {
            "text/html": [
              "<div>\n",
              "<style scoped>\n",
              "    .dataframe tbody tr th:only-of-type {\n",
              "        vertical-align: middle;\n",
              "    }\n",
              "\n",
              "    .dataframe tbody tr th {\n",
              "        vertical-align: top;\n",
              "    }\n",
              "\n",
              "    .dataframe thead th {\n",
              "        text-align: right;\n",
              "    }\n",
              "</style>\n",
              "<table border=\"1\" class=\"dataframe\">\n",
              "  <thead>\n",
              "    <tr style=\"text-align: right;\">\n",
              "      <th></th>\n",
              "      <th>director_name</th>\n",
              "      <th>movies</th>\n",
              "      <th>revenue</th>\n",
              "    </tr>\n",
              "  </thead>\n",
              "  <tbody>\n",
              "    <tr>\n",
              "      <th>0</th>\n",
              "      <td>Steven Spielberg</td>\n",
              "      <td>27</td>\n",
              "      <td>9147393164</td>\n",
              "    </tr>\n",
              "    <tr>\n",
              "      <th>1</th>\n",
              "      <td>Peter Jackson</td>\n",
              "      <td>9</td>\n",
              "      <td>6498642820</td>\n",
              "    </tr>\n",
              "    <tr>\n",
              "      <th>2</th>\n",
              "      <td>James Cameron</td>\n",
              "      <td>7</td>\n",
              "      <td>5883569439</td>\n",
              "    </tr>\n",
              "    <tr>\n",
              "      <th>3</th>\n",
              "      <td>Michael Bay</td>\n",
              "      <td>12</td>\n",
              "      <td>5832524638</td>\n",
              "    </tr>\n",
              "    <tr>\n",
              "      <th>4</th>\n",
              "      <td>Christopher Nolan</td>\n",
              "      <td>8</td>\n",
              "      <td>4227483234</td>\n",
              "    </tr>\n",
              "    <tr>\n",
              "      <th>5</th>\n",
              "      <td>Chris Columbus</td>\n",
              "      <td>11</td>\n",
              "      <td>3725631503</td>\n",
              "    </tr>\n",
              "    <tr>\n",
              "      <th>6</th>\n",
              "      <td>Robert Zemeckis</td>\n",
              "      <td>13</td>\n",
              "      <td>3590622002</td>\n",
              "    </tr>\n",
              "    <tr>\n",
              "      <th>7</th>\n",
              "      <td>George Lucas</td>\n",
              "      <td>5</td>\n",
              "      <td>3339113893</td>\n",
              "    </tr>\n",
              "    <tr>\n",
              "      <th>8</th>\n",
              "      <td>Tim Burton</td>\n",
              "      <td>14</td>\n",
              "      <td>3337418241</td>\n",
              "    </tr>\n",
              "    <tr>\n",
              "      <th>9</th>\n",
              "      <td>Ridley Scott</td>\n",
              "      <td>16</td>\n",
              "      <td>3189557997</td>\n",
              "    </tr>\n",
              "  </tbody>\n",
              "</table>\n",
              "</div>"
            ],
            "text/plain": [
              "       director_name  movies     revenue\n",
              "0   Steven Spielberg      27  9147393164\n",
              "1      Peter Jackson       9  6498642820\n",
              "2      James Cameron       7  5883569439\n",
              "3        Michael Bay      12  5832524638\n",
              "4  Christopher Nolan       8  4227483234\n",
              "5     Chris Columbus      11  3725631503\n",
              "6    Robert Zemeckis      13  3590622002\n",
              "7       George Lucas       5  3339113893\n",
              "8         Tim Burton      14  3337418241\n",
              "9       Ridley Scott      16  3189557997"
            ]
          },
          "execution_count": 24,
          "metadata": {},
          "output_type": "execute_result"
        }
      ],
      "source": [
        "\n",
        "cur.execute('SELECT name, COUNT(original_title), SUM(revenue)FROM directors JOIN movies ON directors.id = movies.director_id GROUP BY name ORDER BY SUM(revenue) DESC')\n",
        "mostProfitableDirector = cur.fetchall()\n",
        "mostProfitableDirector = pd.DataFrame(mostProfitableDirector, columns = ['director_name', 'movies', 'revenue'])\n",
        "mostProfitableDirector.head(10)"
      ]
    },
    {
      "cell_type": "markdown",
      "metadata": {
        "id": "qbNUhJbmcfgD"
      },
      "source": [
        "\n",
        "\n",
        "> ## Note :\n",
        "\n",
        "The mostProfitableDirector Table Shows The Directors With The Highest Gross Profit.\n",
        "\n",
        "Currently, Steven Spielberg Is The Director With The Most Gross Profit, with USD 9,147,393,164 from his 27 movies.\n",
        "\n",
        "Then, Peter Jackson With USD 6,498,642,820, James Cameron With USD 5,883,569,439, And The Other Directors."
      ]
    },
    {
      "cell_type": "markdown",
      "metadata": {
        "id": "nHuk1LFacfgD"
      },
      "source": [
        "**Question** - Display all the number of movies for particular director and revenue ."
      ]
    },
    {
      "cell_type": "code",
      "execution_count": null,
      "metadata": {
        "execution": {
          "iopub.execute_input": "2021-05-20T06:36:34.400004Z",
          "iopub.status.busy": "2021-05-20T06:36:34.399655Z",
          "iopub.status.idle": "2021-05-20T06:36:34.989856Z",
          "shell.execute_reply": "2021-05-20T06:36:34.988844Z",
          "shell.execute_reply.started": "2021-05-20T06:36:34.399975Z"
        },
        "id": "ht8lutJtcfgD",
        "outputId": "5de0d3e8-d5b5-4435-9204-38a20836390e"
      },
      "outputs": [
        {
          "data": {
            "text/html": [
              "<div>\n",
              "<style scoped>\n",
              "    .dataframe tbody tr th:only-of-type {\n",
              "        vertical-align: middle;\n",
              "    }\n",
              "\n",
              "    .dataframe tbody tr th {\n",
              "        vertical-align: top;\n",
              "    }\n",
              "\n",
              "    .dataframe thead th {\n",
              "        text-align: right;\n",
              "    }\n",
              "</style>\n",
              "<table border=\"1\" class=\"dataframe\">\n",
              "  <thead>\n",
              "    <tr style=\"text-align: right;\">\n",
              "      <th></th>\n",
              "      <th>director_name</th>\n",
              "      <th>movies</th>\n",
              "      <th>revenue</th>\n",
              "    </tr>\n",
              "  </thead>\n",
              "  <tbody>\n",
              "    <tr>\n",
              "      <th>0</th>\n",
              "      <td>Steven Spielberg</td>\n",
              "      <td>27</td>\n",
              "      <td>9147393164</td>\n",
              "    </tr>\n",
              "    <tr>\n",
              "      <th>1</th>\n",
              "      <td>Woody Allen</td>\n",
              "      <td>21</td>\n",
              "      <td>669101038</td>\n",
              "    </tr>\n",
              "    <tr>\n",
              "      <th>2</th>\n",
              "      <td>Martin Scorsese</td>\n",
              "      <td>20</td>\n",
              "      <td>1956635998</td>\n",
              "    </tr>\n",
              "    <tr>\n",
              "      <th>3</th>\n",
              "      <td>Clint Eastwood</td>\n",
              "      <td>20</td>\n",
              "      <td>2512058888</td>\n",
              "    </tr>\n",
              "    <tr>\n",
              "      <th>4</th>\n",
              "      <td>Spike Lee</td>\n",
              "      <td>16</td>\n",
              "      <td>340618771</td>\n",
              "    </tr>\n",
              "    <tr>\n",
              "      <th>5</th>\n",
              "      <td>Robert Rodriguez</td>\n",
              "      <td>16</td>\n",
              "      <td>1109899581</td>\n",
              "    </tr>\n",
              "    <tr>\n",
              "      <th>6</th>\n",
              "      <td>Ridley Scott</td>\n",
              "      <td>16</td>\n",
              "      <td>3189557997</td>\n",
              "    </tr>\n",
              "    <tr>\n",
              "      <th>7</th>\n",
              "      <td>Steven Soderbergh</td>\n",
              "      <td>15</td>\n",
              "      <td>2114864443</td>\n",
              "    </tr>\n",
              "    <tr>\n",
              "      <th>8</th>\n",
              "      <td>Renny Harlin</td>\n",
              "      <td>15</td>\n",
              "      <td>1031500590</td>\n",
              "    </tr>\n",
              "    <tr>\n",
              "      <th>9</th>\n",
              "      <td>Tim Burton</td>\n",
              "      <td>14</td>\n",
              "      <td>3337418241</td>\n",
              "    </tr>\n",
              "  </tbody>\n",
              "</table>\n",
              "</div>"
            ],
            "text/plain": [
              "       director_name  movies     revenue\n",
              "0   Steven Spielberg      27  9147393164\n",
              "1        Woody Allen      21   669101038\n",
              "2    Martin Scorsese      20  1956635998\n",
              "3     Clint Eastwood      20  2512058888\n",
              "4          Spike Lee      16   340618771\n",
              "5   Robert Rodriguez      16  1109899581\n",
              "6       Ridley Scott      16  3189557997\n",
              "7  Steven Soderbergh      15  2114864443\n",
              "8       Renny Harlin      15  1031500590\n",
              "9         Tim Burton      14  3337418241"
            ]
          },
          "execution_count": 25,
          "metadata": {},
          "output_type": "execute_result"
        }
      ],
      "source": [
        "\n",
        "cur.execute('SELECT name, COUNT(original_title), SUM(revenue) FROM directors JOIN movies ON directors.id = movies.director_id GROUP BY name ORDER BY COUNT(original_title) DESC')\n",
        "mostProductiveDirector = cur.fetchall()\n",
        "mostProductiveDirector = pd.DataFrame(mostProductiveDirector, columns = ['director_name', 'movies', 'revenue'])\n",
        "mostProductiveDirector.head(10)"
      ]
    },
    {
      "cell_type": "markdown",
      "metadata": {
        "id": "IekBnwdIcfgD"
      },
      "source": [
        "\n",
        "\n",
        "> ### Note :\n",
        "\n",
        "The mostProductiveDirector Table Contains The Name Of The Director And The Number Of Movies It Has Directed By Him.\n",
        "\n",
        "Steven Spielberg Is The Most Productive Director With 27 Movies Titles He Has Directed. Meanwhile, Woody Allen Has Only 21 Movies Titles.\n",
        "\n",
        "Then, Martin Scorsese And Clint Eastwood With 20 Movies Titles.\n"
      ]
    },
    {
      "cell_type": "markdown",
      "metadata": {
        "id": "Sklh2AQrcfgD"
      },
      "source": [
        "**Question**- By doing Director analysis We know Steven Spielberg is the highest revenue, so list the Steven Spielberg movies info"
      ]
    },
    {
      "cell_type": "code",
      "execution_count": null,
      "metadata": {
        "execution": {
          "iopub.execute_input": "2021-05-20T06:36:46.333605Z",
          "iopub.status.busy": "2021-05-20T06:36:46.333218Z",
          "iopub.status.idle": "2021-05-20T06:36:46.948780Z",
          "shell.execute_reply": "2021-05-20T06:36:46.946838Z",
          "shell.execute_reply.started": "2021-05-20T06:36:46.333574Z"
        },
        "id": "K2l12JmacfgD",
        "outputId": "130ae996-d94d-4ab1-f8eb-60ba154fdc16"
      },
      "outputs": [
        {
          "data": {
            "text/html": [
              "<div>\n",
              "<style scoped>\n",
              "    .dataframe tbody tr th:only-of-type {\n",
              "        vertical-align: middle;\n",
              "    }\n",
              "\n",
              "    .dataframe tbody tr th {\n",
              "        vertical-align: top;\n",
              "    }\n",
              "\n",
              "    .dataframe thead th {\n",
              "        text-align: right;\n",
              "    }\n",
              "</style>\n",
              "<table border=\"1\" class=\"dataframe\">\n",
              "  <thead>\n",
              "    <tr style=\"text-align: right;\">\n",
              "      <th></th>\n",
              "      <th>original_title</th>\n",
              "      <th>release_date</th>\n",
              "      <th>budget</th>\n",
              "      <th>revenue</th>\n",
              "      <th>popularity</th>\n",
              "      <th>vote_average</th>\n",
              "    </tr>\n",
              "  </thead>\n",
              "  <tbody>\n",
              "    <tr>\n",
              "      <th>0</th>\n",
              "      <td>The BFG</td>\n",
              "      <td>2016-06-01</td>\n",
              "      <td>140000000</td>\n",
              "      <td>183345589</td>\n",
              "      <td>44</td>\n",
              "      <td>6.0</td>\n",
              "    </tr>\n",
              "    <tr>\n",
              "      <th>1</th>\n",
              "      <td>Bridge of Spies</td>\n",
              "      <td>2015-10-15</td>\n",
              "      <td>40000000</td>\n",
              "      <td>165478348</td>\n",
              "      <td>48</td>\n",
              "      <td>7.2</td>\n",
              "    </tr>\n",
              "    <tr>\n",
              "      <th>2</th>\n",
              "      <td>Lincoln</td>\n",
              "      <td>2012-11-09</td>\n",
              "      <td>65000000</td>\n",
              "      <td>275293450</td>\n",
              "      <td>36</td>\n",
              "      <td>6.7</td>\n",
              "    </tr>\n",
              "    <tr>\n",
              "      <th>3</th>\n",
              "      <td>War Horse</td>\n",
              "      <td>2011-12-25</td>\n",
              "      <td>66000000</td>\n",
              "      <td>177584879</td>\n",
              "      <td>29</td>\n",
              "      <td>7.0</td>\n",
              "    </tr>\n",
              "    <tr>\n",
              "      <th>4</th>\n",
              "      <td>The Adventures of Tintin</td>\n",
              "      <td>2011-10-25</td>\n",
              "      <td>130000000</td>\n",
              "      <td>371940071</td>\n",
              "      <td>89</td>\n",
              "      <td>6.7</td>\n",
              "    </tr>\n",
              "    <tr>\n",
              "      <th>5</th>\n",
              "      <td>Indiana Jones and the Kingdom of the Crystal S...</td>\n",
              "      <td>2008-05-21</td>\n",
              "      <td>185000000</td>\n",
              "      <td>786636033</td>\n",
              "      <td>75</td>\n",
              "      <td>5.7</td>\n",
              "    </tr>\n",
              "    <tr>\n",
              "      <th>6</th>\n",
              "      <td>Munich</td>\n",
              "      <td>2005-12-22</td>\n",
              "      <td>70000000</td>\n",
              "      <td>130358911</td>\n",
              "      <td>29</td>\n",
              "      <td>6.9</td>\n",
              "    </tr>\n",
              "    <tr>\n",
              "      <th>7</th>\n",
              "      <td>War of the Worlds</td>\n",
              "      <td>2005-06-28</td>\n",
              "      <td>132000000</td>\n",
              "      <td>591739379</td>\n",
              "      <td>48</td>\n",
              "      <td>6.2</td>\n",
              "    </tr>\n",
              "    <tr>\n",
              "      <th>8</th>\n",
              "      <td>The Terminal</td>\n",
              "      <td>2004-06-17</td>\n",
              "      <td>60000000</td>\n",
              "      <td>219417255</td>\n",
              "      <td>57</td>\n",
              "      <td>7.0</td>\n",
              "    </tr>\n",
              "    <tr>\n",
              "      <th>9</th>\n",
              "      <td>Catch Me If You Can</td>\n",
              "      <td>2002-12-25</td>\n",
              "      <td>52000000</td>\n",
              "      <td>352114312</td>\n",
              "      <td>73</td>\n",
              "      <td>7.7</td>\n",
              "    </tr>\n",
              "    <tr>\n",
              "      <th>10</th>\n",
              "      <td>Minority Report</td>\n",
              "      <td>2002-06-20</td>\n",
              "      <td>102000000</td>\n",
              "      <td>358372926</td>\n",
              "      <td>65</td>\n",
              "      <td>7.1</td>\n",
              "    </tr>\n",
              "    <tr>\n",
              "      <th>11</th>\n",
              "      <td>A.I. Artificial Intelligence</td>\n",
              "      <td>2001-06-29</td>\n",
              "      <td>100000000</td>\n",
              "      <td>235926552</td>\n",
              "      <td>34</td>\n",
              "      <td>6.8</td>\n",
              "    </tr>\n",
              "    <tr>\n",
              "      <th>12</th>\n",
              "      <td>Saving Private Ryan</td>\n",
              "      <td>1998-07-24</td>\n",
              "      <td>70000000</td>\n",
              "      <td>481840909</td>\n",
              "      <td>76</td>\n",
              "      <td>7.9</td>\n",
              "    </tr>\n",
              "    <tr>\n",
              "      <th>13</th>\n",
              "      <td>Amistad</td>\n",
              "      <td>1997-12-03</td>\n",
              "      <td>36000000</td>\n",
              "      <td>74000000</td>\n",
              "      <td>3</td>\n",
              "      <td>6.8</td>\n",
              "    </tr>\n",
              "    <tr>\n",
              "      <th>14</th>\n",
              "      <td>The Lost World: Jurassic Park</td>\n",
              "      <td>1997-05-23</td>\n",
              "      <td>73000000</td>\n",
              "      <td>229074524</td>\n",
              "      <td>2</td>\n",
              "      <td>6.2</td>\n",
              "    </tr>\n",
              "    <tr>\n",
              "      <th>15</th>\n",
              "      <td>Schindler's List</td>\n",
              "      <td>1993-11-29</td>\n",
              "      <td>22000000</td>\n",
              "      <td>321365567</td>\n",
              "      <td>104</td>\n",
              "      <td>8.3</td>\n",
              "    </tr>\n",
              "    <tr>\n",
              "      <th>16</th>\n",
              "      <td>Jurassic Park</td>\n",
              "      <td>1993-06-11</td>\n",
              "      <td>63000000</td>\n",
              "      <td>920100000</td>\n",
              "      <td>40</td>\n",
              "      <td>7.6</td>\n",
              "    </tr>\n",
              "    <tr>\n",
              "      <th>17</th>\n",
              "      <td>Hook</td>\n",
              "      <td>1991-12-11</td>\n",
              "      <td>70000000</td>\n",
              "      <td>300854823</td>\n",
              "      <td>33</td>\n",
              "      <td>6.6</td>\n",
              "    </tr>\n",
              "    <tr>\n",
              "      <th>18</th>\n",
              "      <td>Indiana Jones and the Last Crusade</td>\n",
              "      <td>1989-05-24</td>\n",
              "      <td>48000000</td>\n",
              "      <td>474171806</td>\n",
              "      <td>80</td>\n",
              "      <td>7.6</td>\n",
              "    </tr>\n",
              "    <tr>\n",
              "      <th>19</th>\n",
              "      <td>The Color Purple</td>\n",
              "      <td>1985-12-18</td>\n",
              "      <td>15000000</td>\n",
              "      <td>146292009</td>\n",
              "      <td>17</td>\n",
              "      <td>7.7</td>\n",
              "    </tr>\n",
              "    <tr>\n",
              "      <th>20</th>\n",
              "      <td>Indiana Jones and the Temple of Doom</td>\n",
              "      <td>1984-05-23</td>\n",
              "      <td>28000000</td>\n",
              "      <td>333000000</td>\n",
              "      <td>66</td>\n",
              "      <td>7.1</td>\n",
              "    </tr>\n",
              "    <tr>\n",
              "      <th>21</th>\n",
              "      <td>Twilight Zone: The Movie</td>\n",
              "      <td>1983-06-24</td>\n",
              "      <td>10000000</td>\n",
              "      <td>29450919</td>\n",
              "      <td>12</td>\n",
              "      <td>6.2</td>\n",
              "    </tr>\n",
              "    <tr>\n",
              "      <th>22</th>\n",
              "      <td>E.T. the Extra-Terrestrial</td>\n",
              "      <td>1982-04-03</td>\n",
              "      <td>10500000</td>\n",
              "      <td>792910554</td>\n",
              "      <td>56</td>\n",
              "      <td>7.3</td>\n",
              "    </tr>\n",
              "    <tr>\n",
              "      <th>23</th>\n",
              "      <td>Raiders of the Lost Ark</td>\n",
              "      <td>1981-06-12</td>\n",
              "      <td>18000000</td>\n",
              "      <td>389925971</td>\n",
              "      <td>68</td>\n",
              "      <td>7.7</td>\n",
              "    </tr>\n",
              "    <tr>\n",
              "      <th>24</th>\n",
              "      <td>1941</td>\n",
              "      <td>1979-12-13</td>\n",
              "      <td>35000000</td>\n",
              "      <td>31755742</td>\n",
              "      <td>10</td>\n",
              "      <td>5.6</td>\n",
              "    </tr>\n",
              "    <tr>\n",
              "      <th>25</th>\n",
              "      <td>Close Encounters of the Third Kind</td>\n",
              "      <td>1977-11-16</td>\n",
              "      <td>20000000</td>\n",
              "      <td>303788635</td>\n",
              "      <td>52</td>\n",
              "      <td>7.2</td>\n",
              "    </tr>\n",
              "    <tr>\n",
              "      <th>26</th>\n",
              "      <td>Jaws</td>\n",
              "      <td>1975-06-18</td>\n",
              "      <td>7000000</td>\n",
              "      <td>470654000</td>\n",
              "      <td>50</td>\n",
              "      <td>7.5</td>\n",
              "    </tr>\n",
              "  </tbody>\n",
              "</table>\n",
              "</div>"
            ],
            "text/plain": [
              "                                       original_title release_date     budget  \\\n",
              "0                                             The BFG   2016-06-01  140000000   \n",
              "1                                     Bridge of Spies   2015-10-15   40000000   \n",
              "2                                             Lincoln   2012-11-09   65000000   \n",
              "3                                           War Horse   2011-12-25   66000000   \n",
              "4                            The Adventures of Tintin   2011-10-25  130000000   \n",
              "5   Indiana Jones and the Kingdom of the Crystal S...   2008-05-21  185000000   \n",
              "6                                              Munich   2005-12-22   70000000   \n",
              "7                                   War of the Worlds   2005-06-28  132000000   \n",
              "8                                        The Terminal   2004-06-17   60000000   \n",
              "9                                 Catch Me If You Can   2002-12-25   52000000   \n",
              "10                                    Minority Report   2002-06-20  102000000   \n",
              "11                       A.I. Artificial Intelligence   2001-06-29  100000000   \n",
              "12                                Saving Private Ryan   1998-07-24   70000000   \n",
              "13                                            Amistad   1997-12-03   36000000   \n",
              "14                      The Lost World: Jurassic Park   1997-05-23   73000000   \n",
              "15                                   Schindler's List   1993-11-29   22000000   \n",
              "16                                      Jurassic Park   1993-06-11   63000000   \n",
              "17                                               Hook   1991-12-11   70000000   \n",
              "18                 Indiana Jones and the Last Crusade   1989-05-24   48000000   \n",
              "19                                   The Color Purple   1985-12-18   15000000   \n",
              "20               Indiana Jones and the Temple of Doom   1984-05-23   28000000   \n",
              "21                           Twilight Zone: The Movie   1983-06-24   10000000   \n",
              "22                         E.T. the Extra-Terrestrial   1982-04-03   10500000   \n",
              "23                            Raiders of the Lost Ark   1981-06-12   18000000   \n",
              "24                                               1941   1979-12-13   35000000   \n",
              "25                 Close Encounters of the Third Kind   1977-11-16   20000000   \n",
              "26                                               Jaws   1975-06-18    7000000   \n",
              "\n",
              "      revenue  popularity  vote_average  \n",
              "0   183345589          44           6.0  \n",
              "1   165478348          48           7.2  \n",
              "2   275293450          36           6.7  \n",
              "3   177584879          29           7.0  \n",
              "4   371940071          89           6.7  \n",
              "5   786636033          75           5.7  \n",
              "6   130358911          29           6.9  \n",
              "7   591739379          48           6.2  \n",
              "8   219417255          57           7.0  \n",
              "9   352114312          73           7.7  \n",
              "10  358372926          65           7.1  \n",
              "11  235926552          34           6.8  \n",
              "12  481840909          76           7.9  \n",
              "13   74000000           3           6.8  \n",
              "14  229074524           2           6.2  \n",
              "15  321365567         104           8.3  \n",
              "16  920100000          40           7.6  \n",
              "17  300854823          33           6.6  \n",
              "18  474171806          80           7.6  \n",
              "19  146292009          17           7.7  \n",
              "20  333000000          66           7.1  \n",
              "21   29450919          12           6.2  \n",
              "22  792910554          56           7.3  \n",
              "23  389925971          68           7.7  \n",
              "24   31755742          10           5.6  \n",
              "25  303788635          52           7.2  \n",
              "26  470654000          50           7.5  "
            ]
          },
          "execution_count": 26,
          "metadata": {},
          "output_type": "execute_result"
        }
      ],
      "source": [
        "\n",
        "cur.execute('SELECT original_title, release_date, budget, revenue, popularity, vote_average FROM directors JOIN movies ON directors.id = movies.director_id WHERE name = \"Steven Spielberg\" ORDER BY release_date DESC')\n",
        "moviesByStevenSpielberg = cur.fetchall()\n",
        "moviesByStevenSpielberg = pd.DataFrame(moviesByStevenSpielberg, columns = ['original_title', 'release_date', 'budget', 'revenue', 'popularity', 'vote_average'])\n",
        "moviesByStevenSpielberg"
      ]
    },
    {
      "cell_type": "markdown",
      "metadata": {
        "id": "9U96LkUVcfgE"
      },
      "source": [
        "\n",
        "\n",
        "> ## Note :\n",
        "\n",
        "From Two Tables Above, mostProfitableDirector And mostProductiveDirector, It Can Be Seen That Steven Spielberg Is Always In The First Place.\n",
        "\n",
        "It Can Be Understood That Steven Spielberg Has Produced Many And Incredible Movies That Are Shows In The Table MoviesByStevenSpielberg Above.\n",
        "\n"
      ]
    },
    {
      "cell_type": "code",
      "execution_count": null,
      "metadata": {
        "id": "RQUGRljRcfgE"
      },
      "outputs": [],
      "source": []
    }
  ],
  "metadata": {
    "kernelspec": {
      "display_name": "Python 3",
      "language": "python",
      "name": "python3"
    },
    "language_info": {
      "codemirror_mode": {
        "name": "ipython",
        "version": 3
      },
      "file_extension": ".py",
      "mimetype": "text/x-python",
      "name": "python",
      "nbconvert_exporter": "python",
      "pygments_lexer": "ipython3",
      "version": "3.11.1"
    },
    "colab": {
      "provenance": [],
      "include_colab_link": true
    }
  },
  "nbformat": 4,
  "nbformat_minor": 0
}